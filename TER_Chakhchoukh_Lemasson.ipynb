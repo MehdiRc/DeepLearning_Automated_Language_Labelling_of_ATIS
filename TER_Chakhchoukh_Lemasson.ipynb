{
 "cells": [
  {
   "cell_type": "markdown",
   "metadata": {},
   "source": [
    "# Projet TER Airline Travel Information System (ATIS)\n",
    "\n",
    "Mehdi Chakhchoukh & Quentin Lemasson\n",
    "\n",
    "Dataset and Subject:\n",
    "https://www.kaggle.com/siddhadev/atis-dataset-from-ms-cntk/notebook\n",
    "\n",
    "Page de sujet:\n",
    "https://allauzen.github.io/cours/M1-TER-NNET/"
   ]
  },
  {
   "cell_type": "markdown",
   "metadata": {},
   "source": [
    "# Loading du notebook compilé\n",
    "Pour éviter une compilation de plusieurs heures, il faut seulement exécuter une à une les 3 cellules suivantes, cela chargera l'état du Jupyter notebook compilé entièrement a partir de la sauvegarde \"TER_Chakhchoukh_Lemasson.db\" mise dans le meme fichier que le notebook."
   ]
  },
  {
   "cell_type": "code",
   "execution_count": 1,
   "metadata": {},
   "outputs": [
    {
     "data": {
      "application/javascript": [
       "Jupyter.notebook.execute_cells([6])"
      ],
      "text/plain": [
       "<IPython.core.display.Javascript object>"
      ]
     },
     "execution_count": 1,
     "metadata": {},
     "output_type": "execute_result"
    }
   ],
   "source": [
    "from IPython.display import Javascript\n",
    "Javascript(\"Jupyter.notebook.execute_cells([6])\")"
   ]
  },
  {
   "cell_type": "code",
   "execution_count": 3,
   "metadata": {},
   "outputs": [
    {
     "data": {
      "application/javascript": [
       "Jupyter.notebook.execute_cells([46])"
      ],
      "text/plain": [
       "<IPython.core.display.Javascript object>"
      ]
     },
     "execution_count": 3,
     "metadata": {},
     "output_type": "execute_result"
    }
   ],
   "source": [
    "Javascript(\"Jupyter.notebook.execute_cells([46])\")"
   ]
  },
  {
   "cell_type": "code",
   "execution_count": 5,
   "metadata": {},
   "outputs": [],
   "source": [
    "import dill\n",
    "dill.load_session('TER_Chakhchoukh_Lemasson.db')"
   ]
  },
  {
   "cell_type": "markdown",
   "metadata": {},
   "source": [
    "# Loading et exploration du data set "
   ]
  },
  {
   "cell_type": "code",
   "execution_count": 2,
   "metadata": {},
   "outputs": [
    {
     "name": "stdout",
     "output_type": "stream",
     "text": [
      "['atis.dict.intent.csv', 'atis.dict.slots.csv', 'atis.dict.vocab.csv', 'atis.test.intent.csv', 'atis.test.pkl', 'atis.test.query.csv', 'atis.test.slots.csv', 'atis.train.intent.csv', 'atis.train.pkl', 'atis.train.query.csv', 'atis.train.slots.csv']\n"
     ]
    }
   ],
   "source": [
    "\n",
    "# It is defined by the kaggle/python docker image: https://github.com/kaggle/docker-python\n",
    "# For example, here's several helpful packages to load in \n",
    "\n",
    "import numpy as np # linear algebra\n",
    "import pandas as pd # data processing, CSV file I/O (e.g. pd.read_csv)\n",
    "\n",
    "# imports nécessaires pour l'aprentissage (réseau récurrent)\n",
    "\n",
    "import torch  # Torch + quelques raccourcis\n",
    "import torch.nn as nn\n",
    "import torch.nn.functional as F\n",
    "import torch.optim as optim\n",
    "torch.manual_seed(1) # Pour la reproduction stable des expériences. \n",
    "\n",
    "# Input data files are available in the \"../input/\" directory.\n",
    "# For example, running this (by clicking run or pressing Shift+Enter) will list the files in the input directory\n",
    "\n",
    "import os\n",
    "print(os.listdir(\"input/atis\"))\n",
    "\n",
    "\n",
    "# Any results you write to the current directory are saved as output."
   ]
  },
  {
   "cell_type": "code",
   "execution_count": 5,
   "metadata": {},
   "outputs": [],
   "source": [
    "import matplotlib.pyplot as plt\n",
    "from matplotlib import rc\n",
    "import matplotlib.patches as mpatches\n",
    "import pandas as pd"
   ]
  },
  {
   "cell_type": "markdown",
   "metadata": {},
   "source": [
    "******************************************************************\n",
    "******************************************************************\n",
    "Chargement du DataSet"
   ]
  },
  {
   "cell_type": "code",
   "execution_count": 6,
   "metadata": {},
   "outputs": [],
   "source": [
    "import pickle\n",
    "\n",
    "DATA_DIR=\"input/atis\"\n",
    "\n",
    "def load_ds(fname='atis.train.pkl'):\n",
    "    with open(fname, 'rb') as stream:\n",
    "        ds,dicts = pickle.load(stream)\n",
    "    print('Done  loading: ', fname)\n",
    "    print('      samples: {:4d}'.format(len(ds['query'])))\n",
    "    print('   vocab_size: {:4d}'.format(len(dicts['token_ids'])))\n",
    "    print('   slot count: {:4d}'.format(len(dicts['slot_ids'])))\n",
    "    print(' intent count: {:4d}'.format(len(dicts['intent_ids'])))\n",
    "    return ds,dicts"
   ]
  },
  {
   "cell_type": "markdown",
   "metadata": {},
   "source": [
    "******************************************************************\n",
    "******************************************************************\n",
    "Division du dataSet en 2 sous ensemble: un ensemble d'entrainement et un ensemble de test"
   ]
  },
  {
   "cell_type": "code",
   "execution_count": 7,
   "metadata": {},
   "outputs": [
    {
     "name": "stdout",
     "output_type": "stream",
     "text": [
      "Pour l'entrainement\n",
      "Done  loading:  input/atis\\atis.train.pkl\n",
      "      samples: 4978\n",
      "   vocab_size:  943\n",
      "   slot count:  129\n",
      " intent count:   26\n",
      "Pour les tests\n",
      "Done  loading:  input/atis\\atis.test.pkl\n",
      "      samples:  893\n",
      "   vocab_size:  943\n",
      "   slot count:  129\n",
      " intent count:   26\n"
     ]
    }
   ],
   "source": [
    "print(\"Pour l'entrainement\")\n",
    "train_ds, dicts = load_ds(os.path.join(DATA_DIR,'atis.train.pkl'))\n",
    "print(\"Pour les tests\")\n",
    "test_ds, dicts  = load_ds(os.path.join(DATA_DIR,'atis.test.pkl'))"
   ]
  },
  {
   "cell_type": "code",
   "execution_count": 8,
   "metadata": {
    "scrolled": true
   },
   "outputs": [
    {
     "name": "stdout",
     "output_type": "stream",
     "text": [
      "   0:         flight: BOS i want to fly from boston at 838 am and arrive in denver at 1110 in the morning EOS\n",
      "                              BOS                                        O\n",
      "                                i                                        O\n",
      "                             want                                        O\n",
      "                               to                                        O\n",
      "                              fly                                        O\n",
      "                             from                                        O\n",
      "                           boston                      B-fromloc.city_name\n",
      "                               at                                        O\n",
      "                              838                       B-depart_time.time\n",
      "                               am                       I-depart_time.time\n",
      "                              and                                        O\n",
      "                           arrive                                        O\n",
      "                               in                                        O\n",
      "                           denver                        B-toloc.city_name\n",
      "                               at                                        O\n",
      "                             1110                       B-arrive_time.time\n",
      "                               in                                        O\n",
      "                              the                                        O\n",
      "                          morning              B-arrive_time.period_of_day\n",
      "                              EOS                                        O\n",
      "**************************************************************************\n",
      "   1:         flight: BOS what flights are available from pittsburgh to baltimore on thursday morning EOS\n",
      "                              BOS                                        O\n",
      "                             what                                        O\n",
      "                          flights                                        O\n",
      "                              are                                        O\n",
      "                        available                                        O\n",
      "                             from                                        O\n",
      "                       pittsburgh                      B-fromloc.city_name\n",
      "                               to                                        O\n",
      "                        baltimore                        B-toloc.city_name\n",
      "                               on                                        O\n",
      "                         thursday                   B-depart_date.day_name\n",
      "                          morning              B-depart_time.period_of_day\n",
      "                              EOS                                        O\n",
      "**************************************************************************\n",
      "   2:    flight_time: BOS what is the arrival time in san francisco for the 755 am flight leaving washington EOS\n",
      "                              BOS                                        O\n",
      "                             what                                        O\n",
      "                               is                                        O\n",
      "                              the                                        O\n",
      "                          arrival                            B-flight_time\n",
      "                             time                            I-flight_time\n",
      "                               in                                        O\n",
      "                              san                      B-fromloc.city_name\n",
      "                        francisco                      I-fromloc.city_name\n",
      "                              for                                        O\n",
      "                              the                                        O\n",
      "                              755                       B-depart_time.time\n",
      "                               am                       I-depart_time.time\n",
      "                           flight                                        O\n",
      "                          leaving                                        O\n",
      "                       washington                      B-fromloc.city_name\n",
      "                              EOS                                        O\n",
      "**************************************************************************\n",
      "   3:        airfare: BOS cheapest airfare from tacoma to orlando EOS\n",
      "                              BOS                                        O\n",
      "                         cheapest                          B-cost_relative\n",
      "                          airfare                                        O\n",
      "                             from                                        O\n",
      "                           tacoma                      B-fromloc.city_name\n",
      "                               to                                        O\n",
      "                          orlando                        B-toloc.city_name\n",
      "                              EOS                                        O\n",
      "**************************************************************************\n",
      "   4:        airfare: BOS round trip fares from pittsburgh to philadelphia under 1000 dollars EOS\n",
      "                              BOS                                        O\n",
      "                            round                             B-round_trip\n",
      "                             trip                             I-round_trip\n",
      "                            fares                                        O\n",
      "                             from                                        O\n",
      "                       pittsburgh                      B-fromloc.city_name\n",
      "                               to                                        O\n",
      "                     philadelphia                        B-toloc.city_name\n",
      "                            under                          B-cost_relative\n",
      "                             1000                            B-fare_amount\n",
      "                          dollars                            I-fare_amount\n",
      "                              EOS                                        O\n",
      "**************************************************************************\n"
     ]
    }
   ],
   "source": [
    "t2i, s2i, in2i = map(dicts.get, ['token_ids', 'slot_ids','intent_ids']) # token to ids / slots to ids / intent to ids\n",
    "i2t, i2s, i2in = map(lambda d: {d[k]:k for k in d.keys()}, [t2i,s2i,in2i]) # ids to token /ids to slots /ids to intent \n",
    "query, slots, intent =  map(train_ds.get, ['query', 'slot_labels', 'intent_labels']) # query = les phrases // slots = les etiquettes /// intent = le sens des phrases \n",
    "testQuery, testSlots, testIntent =  map(test_ds.get, ['query', 'slot_labels', 'intent_labels']) # query = les phrases // slots = les etiquettes /// intent = le sens des phrases\n",
    "for i in range(5):\n",
    "    print('{:4d}:{:>15}: {}'.format(i, i2in[intent[i][0]],\n",
    "                                    ' '.join(map(i2t.get, query[i]))))\n",
    "    for j in range(len(query[i])):\n",
    "        print('{:>33} {:>40}'.format(i2t[query[i][j]],\n",
    "                                     i2s[slots[i][j]]  ))\n",
    "    print('*'*74)\n",
    "    \n"
   ]
  },
  {
   "cell_type": "code",
   "execution_count": 9,
   "metadata": {},
   "outputs": [
    {
     "name": "stdout",
     "output_type": "stream",
     "text": [
      "Nombre de phrases dans le Training set: 4978\n",
      "Nombre de phrases dans le Testing set: 893\n",
      "Ratio N# de phrases de training/ N# de phrases detesting: 5.57\n",
      "###########################################################\n",
      "Nombre de mots dans le Training set: 66547\n",
      "Nombre de mots dans le Testing set: 10984\n",
      "Ratio N# de mots de training/ N# de mots detesting: 6.06\n"
     ]
    }
   ],
   "source": [
    "def countSentences(query):\n",
    "    return len(query)\n",
    "\n",
    "def countWords(query):\n",
    "    res=0\n",
    "    for sent in query:\n",
    "        for word in sent:\n",
    "            res+=1\n",
    "    return res\n",
    "\n",
    "print(\"Nombre de phrases dans le Training set:\", len(query))\n",
    "print(\"Nombre de phrases dans le Testing set:\", len(testQuery))\n",
    "print(\"Ratio N# de phrases de training/ N# de phrases detesting:\", round(len(query)/len(testQuery),2) )\n",
    "print('###########################################################')\n",
    "print(\"Nombre de mots dans le Training set:\", countWords(query))\n",
    "print(\"Nombre de mots dans le Testing set:\", countWords(testQuery))\n",
    "print(\"Ratio N# de mots de training/ N# de mots detesting:\", round(countWords(query)/countWords(testQuery),2) )"
   ]
  },
  {
   "cell_type": "code",
   "execution_count": 10,
   "metadata": {},
   "outputs": [
    {
     "data": {
      "image/png": "[encoded data removed]",
      "text/plain": [
       "<Figure size 432x288 with 1 Axes>"
      ]
     },
     "metadata": {
      "needs_background": "light"
     },
     "output_type": "display_data"
    }
   ],
   "source": [
    "# data to plot\n",
    "n_groups = 1\n",
    "names=[]\n",
    "nSentenceTrain = np.array([len(query)])\n",
    "nSentenceTest = np.array([len(testQuery)])\n",
    "\n",
    "# create plot\n",
    "fig, ax = plt.subplots()\n",
    "index = np.arange(n_groups)\n",
    "bar_width = 0.28\n",
    "opacity = 0.8\n",
    "\n",
    "rects1 = plt.bar(index, nSentenceTrain, bar_width, alpha=opacity,\n",
    "color='b',\n",
    "label='Train')\n",
    "\n",
    "rects2 = plt.bar(index + bar_width, nSentenceTest, bar_width,\n",
    "alpha=opacity,\n",
    "color='g',\n",
    "label='Test')\n",
    "\n",
    "plt.xlabel('Sets')\n",
    "plt.ylabel('Number of sentences')\n",
    "plt.title('Number of sentences of train set vs test set')\n",
    "plt.xticks(index + bar_width, (names))\n",
    "plt.legend()\n",
    "\n",
    "plt.tight_layout()\n",
    "plt.show()\n"
   ]
  },
  {
   "cell_type": "code",
   "execution_count": 11,
   "metadata": {},
   "outputs": [
    {
     "data": {
      "image/png": "[encoded data removed]",
      "text/plain": [
       "<Figure size 432x288 with 1 Axes>"
      ]
     },
     "metadata": {
      "needs_background": "light"
     },
     "output_type": "display_data"
    }
   ],
   "source": [
    "# data to plot\n",
    "n_groups = 1\n",
    "names=[]\n",
    "nSentenceTrain = np.array([countWords(query)])\n",
    "nSentenceTest = np.array([countWords(testQuery)])\n",
    "\n",
    "# create plot\n",
    "fig, ax = plt.subplots()\n",
    "index = np.arange(n_groups)\n",
    "bar_width = 0.28\n",
    "opacity = 0.8\n",
    "\n",
    "rects1 = plt.bar(index, nSentenceTrain, bar_width, alpha=opacity,\n",
    "color='b',\n",
    "label='Train')\n",
    "\n",
    "rects2 = plt.bar(index + bar_width, nSentenceTest, bar_width,\n",
    "alpha=opacity,\n",
    "color='g',\n",
    "label='Test')\n",
    "\n",
    "plt.xlabel('Sets')\n",
    "plt.ylabel('Number of Words')\n",
    "plt.title('Number of Words of train set vs test set')\n",
    "plt.xticks(index + bar_width, (names))\n",
    "plt.legend()\n",
    "\n",
    "plt.tight_layout()\n",
    "plt.show()\n"
   ]
  },
  {
   "cell_type": "markdown",
   "metadata": {},
   "source": [
    "# Verrification des vocabulaires:"
   ]
  },
  {
   "cell_type": "markdown",
   "metadata": {},
   "source": [
    "******************************************************************\n",
    "******************************************************************\n",
    "Aperçu sur les premières entrées du dataset"
   ]
  },
  {
   "cell_type": "markdown",
   "metadata": {},
   "source": [
    "# Exploration des données "
   ]
  },
  {
   "cell_type": "code",
   "execution_count": 12,
   "metadata": {
    "scrolled": true
   },
   "outputs": [
    {
     "name": "stdout",
     "output_type": "stream",
     "text": [
      "{\"'d\": 0, \"'hare\": 1, \"'ll\": 2, \"'m\": 3, \"'re\": 4, \"'s\": 5, \"'t\": 6, \"'ve\": 7, '0900': 8, '1': 9, '10': 10, '100': 11, '1000': 12, '1017': 13, '1020': 14, '1024': 15, '1026': 16, '1030': 17, '1039': 18, '1045': 19, '1055': 20, '1059': 21, '106': 22, '1083': 23, '11': 24, '110': 25, '1100': 26, '1110': 27, '1115': 28, '1130': 29, '1133': 30, '1145': 31, '1158': 32, '12': 33, '1200': 34, '1201': 35, '1205': 36, '1207': 37, '1209': 38, '1220': 39, '1222': 40, '1230': 41, '124': 42, '1245': 43, '1288': 44, '1291': 45, '130': 46, '1300': 47, '137338': 48, '139': 49, '150': 50, '1500': 51, '1505': 52, '1600': 53, '163': 54, '1700': 55, '1765': 56, '1800': 57, '1850': 58, '19': 59, '1940': 60, '1991': 61, '1992': 62, '1993': 63, '1994': 64, '2': 65, '20': 66, '200': 67, '201': 68, '21': 69, '210': 70, '2100': 71, '212': 72, '2134': 73, '2153': 74, '217': 75, '225': 76, '229': 77, '230': 78, '257': 79, '269': 80, '270': 81, '271': 82, '279': 83, '281': 84, '296': 85, '297': 86, '3': 87, '300': 88, '305': 89, '311': 90, '315': 91, '320': 92, '323': 93, '324': 94, '329': 95, '3357': 96, '343': 97, '345': 98, '352': 99, '3724': 100, '382': 101, '4': 102, '400': 103, '402': 104, '405': 105, '415': 106, '416': 107, '417': 108, '419': 109, '420': 110, '428': 111, '43': 112, '430': 113, '4400': 114, '445': 115, '459': 116, '466': 117, '468': 118, '486': 119, '497766': 120, '5': 121, '500': 122, '505': 123, '515': 124, '530': 125, '539': 126, '55': 127, '555': 128, '57': 129, '6': 130, '608': 131, '615': 132, '630': 133, '639': 134, '645': 135, '650': 136, '665': 137, '673': 138, '7': 139, '705': 140, '71': 141, '718': 142, '720': 143, '723': 144, '727': 145, '72s': 146, '730': 147, '733': 148, '734': 149, '737': 150, '73s': 151, '746': 152, '747': 153, '755': 154, '757': 155, '767': 156, '771': 157, '8': 158, '80': 159, '810': 160, '811': 161, '813': 162, '815': 163, '819': 164, '82': 165, '823': 166, '825': 167, '838': 168, '842': 169, '845': 170, '852': 171, '9': 172, '928': 173, '932': 174, '934': 175, '950': 176, '98': 177, 'BOS': 178, 'EOS': 179, 'a': 180, 'aa': 181, 'abbreviation': 182, 'abbreviations': 183, 'able': 184, 'about': 185, 'ac': 186, 'across': 187, 'actually': 188, 'advertises': 189, 'after': 190, 'afternoon': 191, 'afternoons': 192, 'afterwards': 193, 'again': 194, 'air': 195, 'aircraft': 196, 'airfare': 197, 'airfares': 198, 'airline': 199, 'airlines': 200, 'airplane': 201, 'airplanes': 202, 'airport': 203, 'airports': 204, 'al': 205, 'alaska': 206, 'all': 207, 'along': 208, 'also': 209, 'am': 210, 'america': 211, 'american': 212, 'amount': 213, 'an': 214, 'and': 215, 'angeles': 216, 'another': 217, 'any': 218, 'anything': 219, 'anywhere': 220, 'ap': 221, 'ap57': 222, 'ap58': 223, 'ap68': 224, 'ap80': 225, 'approximately': 226, 'april': 227, 'are': 228, 'area': 229, 'arizona': 230, 'around': 231, 'arrange': 232, 'arrangements': 233, 'arrival': 234, 'arrivals': 235, 'arrive': 236, 'arrives': 237, 'arriving': 238, 'as': 239, 'at': 240, 'atl': 241, 'atlanta': 242, 'august': 243, 'available': 244, 'b': 245, 'back': 246, 'baltimore': 247, 'basis': 248, 'bay': 249, 'be': 250, 'be1': 251, 'beach': 252, 'before': 253, 'beginning': 254, 'begins': 255, 'being': 256, 'belong': 257, 'besides': 258, 'between': 259, 'bh': 260, 'bn': 261, 'bna': 262, 'boeing': 263, 'book': 264, 'booking': 265, 'boston': 266, 'both': 267, 'bound': 268, 'breakfast': 269, 'bring': 270, 'bur': 271, 'burbank': 272, 'business': 273, 'but': 274, 'buy': 275, 'bwi': 276, 'by': 277, 'c': 278, 'california': 279, 'called': 280, 'calling': 281, 'can': 282, 'canada': 283, 'canadian': 284, 'capacities': 285, 'capacity': 286, 'car': 287, 'carolina': 288, 'carried': 289, 'carries': 290, 'cars': 291, 'catch': 292, 'charges': 293, 'charlotte': 294, 'cheap': 295, 'cheapest': 296, 'chicago': 297, 'choices': 298, 'cincinnati': 299, 'cities': 300, 'city': 301, 'class': 302, 'classes': 303, 'cleveland': 304, 'close': 305, 'closest': 306, 'co': 307, 'coach': 308, 'code': 309, 'codes': 310, 'colorado': 311, 'columbus': 312, 'combination': 313, 'come': 314, 'comes': 315, 'coming': 316, 'companies': 317, 'concerning': 318, 'connect': 319, 'connecting': 320, 'connection': 321, 'connections': 322, 'connects': 323, 'continent': 324, 'continental': 325, 'continuing': 326, 'cost': 327, 'costs': 328, 'could': 329, 'county': 330, 'cover': 331, 'cp': 332, 'currently': 333, 'cvg': 334, 'd': 335, 'd10': 336, 'd9s': 337, 'daily': 338, 'dallas': 339, 'database': 340, 'date': 341, 'day': 342, 'days': 343, 'dc': 344, 'dc10': 345, 'dc9': 346, 'dca': 347, 'december': 348, 'define': 349, 'delta': 350, 'denver': 351, 'depart': 352, 'departing': 353, 'departs': 354, 'departure': 355, 'departures': 356, 'describe': 357, 'designate': 358, 'destination': 359, 'determine': 360, 'detroit': 361, 'dfw': 362, 'dh8': 363, 'diego': 364, 'difference': 365, 'different': 366, 'dinner': 367, 'dinnertime': 368, 'direct': 369, 'directly': 370, 'discount': 371, 'display': 372, 'distance': 373, 'dl': 374, 'do': 375, 'does': 376, 'doesn': 377, 'dollars': 378, 'don': 379, 'downtown': 380, 'dtw': 381, 'dulles': 382, 'during': 383, 'ea': 384, 'each': 385, 'earlier': 386, 'earliest': 387, 'early': 388, 'eastern': 389, 'economic': 390, 'economy': 391, 'eight': 392, 'eighteenth': 393, 'eighth': 394, 'either': 395, 'eleven': 396, 'eleventh': 397, 'else': 398, 'enroute': 399, 'equal': 400, 'equipment': 401, 'evening': 402, 'ever': 403, 'everywhere': 404, 'ewr': 405, 'exceeding': 406, 'expensive': 407, 'explain': 408, 'express': 409, 'eye': 410, 'f': 411, 'f28': 412, 'far': 413, 'fare': 414, 'fares': 415, 'february': 416, 'ff': 417, 'field': 418, 'fifteen': 419, 'fifteenth': 420, 'fifth': 421, 'final': 422, 'find': 423, 'fine': 424, 'first': 425, 'fit': 426, 'flies': 427, 'flight': 428, 'flights': 429, 'florida': 430, 'fly': 431, 'flying': 432, 'fn': 433, 'following': 434, 'for': 435, 'fort': 436, 'four': 437, 'fourteenth': 438, 'fourth': 439, 'francisco': 440, 'friday': 441, 'fridays': 442, 'friends': 443, 'from': 444, 'general': 445, 'georgia': 446, 'get': 447, 'gets': 448, 'give': 449, 'go': 450, 'goes': 451, 'going': 452, 'good': 453, 'got': 454, 'great': 455, 'greatest': 456, 'ground': 457, 'grounds': 458, 'guardia': 459, 'h': 460, 'hartfield': 461, 'has': 462, 'have': 463, 'having': 464, 'heading': 465, 'hello': 466, 'help': 467, 'here': 468, 'hi': 469, 'highest': 470, 'hold': 471, 'home': 472, 'hopefully': 473, 'hou': 474, 'hours': 475, 'houston': 476, 'how': 477, 'hp': 478, 'i': 479, 'iah': 480, 'if': 481, 'in': 482, 'include': 483, 'included': 484, 'includes': 485, 'including': 486, 'india': 487, 'indiana': 488, 'indianapolis': 489, 'inexpensive': 490, 'inform': 491, 'information': 492, 'instead': 493, 'intercontinental': 494, 'interested': 495, 'international': 496, 'into': 497, 'is': 498, 'it': 499, 'itinerary': 500, 'j31': 501, 'january': 502, 'jersey': 503, 'jet': 504, 'jfk': 505, 'jose': 506, 'july': 507, 'june': 508, 'just': 509, 'k': 510, 'kansas': 511, 'kennedy': 512, 'kind': 513, 'kindly': 514, 'kinds': 515, 'know': 516, 'kw': 517, 'l10': 518, 'l1011': 519, 'la': 520, 'lake': 521, 'land': 522, 'landing': 523, 'landings': 524, 'lands': 525, 'largest': 526, 'las': 527, 'last': 528, 'lastest': 529, 'late': 530, 'later': 531, 'latest': 532, 'lax': 533, 'laying': 534, 'layover': 535, 'least': 536, 'leave': 537, 'leaves': 538, 'leaving': 539, 'less': 540, 'lester': 541, 'let': 542, 'level': 543, 'lga': 544, 'like': 545, 'limo': 546, 'limousine': 547, 'limousines': 548, 'list': 549, 'listed': 550, 'listing': 551, 'listings': 552, 'live': 553, 'lives': 554, 'local': 555, 'locate': 556, 'located': 557, 'logan': 558, 'long': 559, 'longest': 560, 'look': 561, 'looking': 562, 'los': 563, 'louis': 564, 'love': 565, 'lowest': 566, 'ls': 567, 'lufthansa': 568, 'lunch': 569, 'm': 570, 'm80': 571, 'make': 572, 'makes': 573, 'making': 574, 'many': 575, 'march': 576, 'maximum': 577, 'may': 578, 'mci': 579, 'mco': 580, 'me': 581, 'meal': 582, 'meals': 583, 'mealtime': 584, 'mean': 585, 'meaning': 586, 'memphis': 587, 'mia': 588, 'miami': 589, 'michigan': 590, 'midnight': 591, 'midway': 592, 'midwest': 593, 'miles': 594, 'milwaukee': 595, 'minimum': 596, 'minneapolis': 597, 'minnesota': 598, 'missouri': 599, 'mitchell': 600, 'monday': 601, 'mondays': 602, 'month': 603, 'montreal': 604, 'more': 605, 'morning': 606, 'mornings': 607, 'most': 608, 'much': 609, 'must': 610, 'my': 611, 'name': 612, 'names': 613, 'nashville': 614, 'nationair': 615, 'near': 616, 'need': 617, 'nevada': 618, 'new': 619, 'newark': 620, 'next': 621, 'night': 622, 'nights': 623, 'nighttime': 624, 'nineteenth': 625, 'ninth': 626, 'no': 627, 'non': 628, 'nonstop': 629, 'nonstops': 630, 'noon': 631, 'noontime': 632, 'north': 633, 'northwest': 634, 'not': 635, 'november': 636, 'now': 637, 'number': 638, 'numbers': 639, 'nw': 640, 'o': 641, \"o'clock\": 642, 'oak': 643, 'oakland': 644, 'october': 645, 'of': 646, 'off': 647, 'offer': 648, 'offered': 649, 'offers': 650, 'oh': 651, 'ohio': 652, 'okay': 653, 'on': 654, 'once': 655, 'one': 656, 'only': 657, 'ontario': 658, 'operating': 659, 'operation': 660, 'options': 661, 'or': 662, 'ord': 663, 'order': 664, 'originate': 665, 'originating': 666, 'orlando': 667, 'other': 668, 'out': 669, 'over': 670, 'overnight': 671, 'passengers': 672, 'paul': 673, 'pearson': 674, 'pennsylvania': 675, 'people': 676, 'petersburg': 677, 'philadelphia': 678, 'philly': 679, 'phl': 680, 'phoenix': 681, 'pittsburgh': 682, 'place': 683, 'plan': 684, 'plane': 685, 'planes': 686, 'planning': 687, 'please': 688, 'pm': 689, 'possible': 690, 'prefer': 691, 'preferably': 692, 'price': 693, 'priced': 694, 'prices': 695, 'prior': 696, 'proper': 697, 'provide': 698, 'provided': 699, 'provides': 700, 'put': 701, 'q': 702, 'qo': 703, 'qualify': 704, 'quebec': 705, 'question': 706, 'qw': 707, 'qx': 708, 'rate': 709, 'rates': 710, 'reaches': 711, 'reaching': 712, 'red': 713, 'regarding': 714, 'rent': 715, 'rental': 716, 'rentals': 717, 'repeat': 718, 'repeating': 719, 'represented': 720, 'requesting': 721, 'reservation': 722, 'reservations': 723, 'restriction': 724, 'restrictions': 725, 'return': 726, 'returning': 727, 'reverse': 728, 'right': 729, 'round': 730, 'route': 731, 'run': 732, 'runs': 733, 's': 734, 'sa': 735, 'salt': 736, 'sam': 737, 'same': 738, 'san': 739, 'saturday': 740, 'saturdays': 741, 'say': 742, 'sb': 743, 'scenario': 744, 'schedule': 745, 'scheduled': 746, 'schedules': 747, 'sd': 748, 'seat': 749, 'seating': 750, 'seats': 751, 'seattle': 752, 'second': 753, 'see': 754, 'september': 755, 'serve': 756, 'served': 757, 'serves': 758, 'service': 759, 'serviced': 760, 'services': 761, 'serving': 762, 'seven': 763, 'seventeen': 764, 'seventeenth': 765, 'seventh': 766, 'sfo': 767, 'shortest': 768, 'should': 769, 'show': 770, 'single': 771, 'six': 772, 'sixteen': 773, 'sixteenth': 774, 'sixth': 775, 'smallest': 776, 'snack': 777, 'snacks': 778, 'so': 779, 'some': 780, 'somebody': 781, 'sometime': 782, 'soon': 783, 'sorry': 784, 'sort': 785, 'sounds': 786, 'southwest': 787, 'spend': 788, 'st.': 789, 'stand': 790, 'stands': 791, 'stapleton': 792, 'start': 793, 'starting': 794, 'staying': 795, 'still': 796, 'stop': 797, 'stopover': 798, 'stopovers': 799, 'stopping': 800, 'stops': 801, 'straight': 802, 'such': 803, 'summer': 804, 'sunday': 805, 'sundays': 806, 'supper': 807, 'sure': 808, 'symbols': 809, 'tacoma': 810, 'take': 811, 'takeoff': 812, 'takeoffs': 813, 'takes': 814, 'taking': 815, 'tampa': 816, 'taxi': 817, 'tell': 818, 'ten': 819, 'tennessee': 820, 'tenth': 821, 'texas': 822, 'than': 823, 'thank': 824, 'thanks': 825, 'that': 826, 'the': 827, 'their': 828, 'them': 829, 'then': 830, 'there': 831, 'thereafter': 832, 'these': 833, 'they': 834, 'thing': 835, 'third': 836, 'thirteenth': 837, 'thirtieth': 838, 'thirty': 839, 'this': 840, 'those': 841, 'three': 842, 'thrift': 843, 'through': 844, 'thursday': 845, 'thursdays': 846, 'ticket': 847, 'tickets': 848, 'time': 849, 'times': 850, 'to': 851, 'today': 852, 'tomorrow': 853, 'tonight': 854, 'too': 855, 'toronto': 856, 'total': 857, 'toward': 858, 'tower': 859, 'town': 860, 'tpa': 861, 'train': 862, 'trans': 863, 'transcontinental': 864, 'transport': 865, 'transportation': 866, 'travel': 867, 'traveling': 868, 'travels': 869, 'trip': 870, 'trips': 871, 'try': 872, 'trying': 873, 'tuesday': 874, 'tuesdays': 875, 'turboprop': 876, 'twa': 877, 'twelfth': 878, 'twelve': 879, 'twentieth': 880, 'twenty': 881, 'two': 882, 'type': 883, 'types': 884, 'ua': 885, 'under': 886, 'united': 887, 'up': 888, 'us': 889, 'usa': 890, 'use': 891, 'used': 892, 'uses': 893, 'using': 894, 'utah': 895, 'various': 896, 'vegas': 897, 'very': 898, 'via': 899, 'vicinity': 900, 'visit': 901, 'want': 902, 'wanted': 903, 'wants': 904, 'washington': 905, 'way': 906, 'we': 907, 'wednesday': 908, 'wednesdays': 909, 'week': 910, 'weekday': 911, 'weekdays': 912, 'well': 913, 'west': 914, 'westchester': 915, 'what': 916, 'when': 917, 'where': 918, 'whether': 919, 'which': 920, 'while': 921, 'who': 922, 'will': 923, 'wish': 924, 'with': 925, 'within': 926, 'without': 927, 'wn': 928, 'working': 929, 'world': 930, 'worth': 931, 'would': 932, 'y': 933, 'year': 934, 'yes': 935, 'yn': 936, 'york': 937, 'you': 938, 'your': 939, 'yx': 940, 'yyz': 941, 'zone': 942}"
     ]
    },
    {
     "name": "stdout",
     "output_type": "stream",
     "text": [
      "\n"
     ]
    }
   ],
   "source": [
    "# Observation des donnée:\n",
    "# token to ids: met en relation les mot et leur identifiants\n",
    "print(t2i)"
   ]
  },
  {
   "cell_type": "code",
   "execution_count": 13,
   "metadata": {},
   "outputs": [
    {
     "name": "stdout",
     "output_type": "stream",
     "text": [
      "{'B-aircraft_code': 0, 'B-airline_code': 1, 'B-airline_name': 2, 'B-airport_code': 3, 'B-airport_name': 4, 'B-arrive_date.date_relative': 5, 'B-arrive_date.day_name': 6, 'B-arrive_date.day_number': 7, 'B-arrive_date.month_name': 8, 'B-arrive_date.today_relative': 9, 'B-arrive_time.end_time': 10, 'B-arrive_time.period_mod': 11, 'B-arrive_time.period_of_day': 12, 'B-arrive_time.start_time': 13, 'B-arrive_time.time': 14, 'B-arrive_time.time_relative': 15, 'B-booking_class': 16, 'B-city_name': 17, 'B-class_type': 18, 'B-compartment': 19, 'B-connect': 20, 'B-cost_relative': 21, 'B-day_name': 22, 'B-day_number': 23, 'B-days_code': 24, 'B-depart_date.date_relative': 25, 'B-depart_date.day_name': 26, 'B-depart_date.day_number': 27, 'B-depart_date.month_name': 28, 'B-depart_date.today_relative': 29, 'B-depart_date.year': 30, 'B-depart_time.end_time': 31, 'B-depart_time.period_mod': 32, 'B-depart_time.period_of_day': 33, 'B-depart_time.start_time': 34, 'B-depart_time.time': 35, 'B-depart_time.time_relative': 36, 'B-economy': 37, 'B-fare_amount': 38, 'B-fare_basis_code': 39, 'B-flight': 40, 'B-flight_days': 41, 'B-flight_mod': 42, 'B-flight_number': 43, 'B-flight_stop': 44, 'B-flight_time': 45, 'B-fromloc.airport_code': 46, 'B-fromloc.airport_name': 47, 'B-fromloc.city_name': 48, 'B-fromloc.state_code': 49, 'B-fromloc.state_name': 50, 'B-meal': 51, 'B-meal_code': 52, 'B-meal_description': 53, 'B-mod': 54, 'B-month_name': 55, 'B-or': 56, 'B-period_of_day': 57, 'B-restriction_code': 58, 'B-return_date.date_relative': 59, 'B-return_date.day_name': 60, 'B-return_date.day_number': 61, 'B-return_date.month_name': 62, 'B-return_date.today_relative': 63, 'B-return_time.period_mod': 64, 'B-return_time.period_of_day': 65, 'B-round_trip': 66, 'B-state_code': 67, 'B-state_name': 68, 'B-stoploc.airport_code': 69, 'B-stoploc.airport_name': 70, 'B-stoploc.city_name': 71, 'B-stoploc.state_code': 72, 'B-time': 73, 'B-time_relative': 74, 'B-today_relative': 75, 'B-toloc.airport_code': 76, 'B-toloc.airport_name': 77, 'B-toloc.city_name': 78, 'B-toloc.country_name': 79, 'B-toloc.state_code': 80, 'B-toloc.state_name': 81, 'B-transport_type': 82, 'I-airline_name': 83, 'I-airport_name': 84, 'I-arrive_date.day_number': 85, 'I-arrive_time.end_time': 86, 'I-arrive_time.period_of_day': 87, 'I-arrive_time.start_time': 88, 'I-arrive_time.time': 89, 'I-arrive_time.time_relative': 90, 'I-city_name': 91, 'I-class_type': 92, 'I-cost_relative': 93, 'I-depart_date.day_name': 94, 'I-depart_date.day_number': 95, 'I-depart_date.today_relative': 96, 'I-depart_time.end_time': 97, 'I-depart_time.period_of_day': 98, 'I-depart_time.start_time': 99, 'I-depart_time.time': 100, 'I-depart_time.time_relative': 101, 'I-economy': 102, 'I-fare_amount': 103, 'I-fare_basis_code': 104, 'I-flight_mod': 105, 'I-flight_number': 106, 'I-flight_stop': 107, 'I-flight_time': 108, 'I-fromloc.airport_name': 109, 'I-fromloc.city_name': 110, 'I-fromloc.state_name': 111, 'I-meal_code': 112, 'I-meal_description': 113, 'I-mod': 114, 'I-restriction_code': 115, 'I-return_date.date_relative': 116, 'I-return_date.day_number': 117, 'I-return_date.today_relative': 118, 'I-round_trip': 119, 'I-state_name': 120, 'I-stoploc.city_name': 121, 'I-time': 122, 'I-today_relative': 123, 'I-toloc.airport_name': 124, 'I-toloc.city_name': 125, 'I-toloc.state_name': 126, 'I-transport_type': 127, 'O': 128}\n"
     ]
    }
   ],
   "source": [
    "#slots to ids : met en relation les etiquettes et leurs identifiants\n",
    "print(s2i)"
   ]
  },
  {
   "cell_type": "code",
   "execution_count": 14,
   "metadata": {},
   "outputs": [
    {
     "name": "stdout",
     "output_type": "stream",
     "text": [
      "{'abbreviation': 0, 'aircraft': 1, 'aircraft+flight+flight_no': 2, 'airfare': 3, 'airfare+flight': 4, 'airfare+flight_time': 5, 'airline': 6, 'airline+flight_no': 7, 'airport': 8, 'capacity': 9, 'cheapest': 10, 'city': 11, 'day_name': 12, 'distance': 13, 'flight': 14, 'flight+airfare': 15, 'flight+airline': 16, 'flight_no': 17, 'flight_no+airline': 18, 'flight_time': 19, 'ground_fare': 20, 'ground_service': 21, 'ground_service+ground_fare': 22, 'meal': 23, 'quantity': 24, 'restriction': 25}\n"
     ]
    }
   ],
   "source": [
    "#intent to ids: met en relation les \"intention\" avec leur id\n",
    "print(in2i)"
   ]
  },
  {
   "cell_type": "code",
   "execution_count": 15,
   "metadata": {},
   "outputs": [
    {
     "name": "stdout",
     "output_type": "stream",
     "text": [
      "[array([178, 479, 902, 851, 431, 444, 266, 240, 168, 210, 215, 236, 482,\n",
      "       351, 240,  27, 482, 827, 606, 179], dtype=int64), array([178, 916, 429, 228, 244, 444, 682, 851, 247, 654, 845, 606, 179],\n",
      "      dtype=int64), array([178, 916, 498, 827, 234, 849, 482, 739, 440, 435, 827, 154, 210,\n",
      "       428, 539, 905, 179], dtype=int64), array([178, 296, 197, 444, 810, 851, 667, 179], dtype=int64), array([178, 730, 870, 415, 444, 682, 851, 678, 886,  12, 378, 179],\n",
      "      dtype=int64), array([178, 479, 617, 180, 428, 853, 444, 312, 851, 597, 179], dtype=int64), array([178, 916, 513, 646, 196, 498, 892, 654, 180, 428, 444, 304, 851,\n",
      "       339, 179], dtype=int64), array([178, 770, 581, 827, 429, 444, 682, 851, 563, 216, 654, 845, 179],\n",
      "      dtype=int64), array([178, 207, 429, 444, 266, 851, 905, 179], dtype=int64), array([178, 916, 513, 646, 457, 866, 498, 244, 482, 351, 179], dtype=int64)]\n"
     ]
    }
   ],
   "source": [
    "# les phrases du train\n",
    "print(query[0:10])"
   ]
  },
  {
   "cell_type": "code",
   "execution_count": 16,
   "metadata": {},
   "outputs": [
    {
     "name": "stdout",
     "output_type": "stream",
     "text": [
      "[array([128, 128, 128, 128, 128, 128,  48, 128,  35, 100, 128, 128, 128,\n",
      "        78, 128,  14, 128, 128,  12, 128], dtype=int64), array([128, 128, 128, 128, 128, 128,  48, 128,  78, 128,  26,  33, 128],\n",
      "      dtype=int64), array([128, 128, 128, 128,  45, 108, 128,  48, 110, 128, 128,  35, 100,\n",
      "       128, 128,  48, 128], dtype=int64), array([128,  21, 128, 128,  48, 128,  78, 128], dtype=int64), array([128,  66, 119, 128, 128,  48, 128,  78,  21,  38, 103, 128],\n",
      "      dtype=int64), array([128, 128, 128, 128, 128,  29, 128,  48, 128,  78, 128], dtype=int64), array([128, 128, 128, 128, 128, 128, 128, 128, 128, 128, 128,  48, 128,\n",
      "        78, 128], dtype=int64), array([128, 128, 128, 128, 128, 128,  48, 128,  78, 125, 128,  26, 128],\n",
      "      dtype=int64), array([128, 128, 128, 128,  48, 128,  78, 128], dtype=int64), array([128, 128, 128, 128, 128, 128, 128, 128, 128,  17, 128], dtype=int64)]\n"
     ]
    }
   ],
   "source": [
    "# les Tags des phrases du train\n",
    "print(slots[0:10]) "
   ]
  },
  {
   "cell_type": "code",
   "execution_count": 17,
   "metadata": {
    "scrolled": false
   },
   "outputs": [
    {
     "name": "stdout",
     "output_type": "stream",
     "text": [
      "Word[0,0]\tBOS\t ==\t Tag[0,0]\tO\n",
      "Word[0,1]\ti\t ==\t Tag[0,1]\tO\n",
      "Word[0,2]\twant\t ==\t Tag[0,2]\tO\n",
      "Word[0,3]\tto\t ==\t Tag[0,3]\tO\n",
      "Word[0,4]\tfly\t ==\t Tag[0,4]\tO\n",
      "Word[0,5]\tfrom\t ==\t Tag[0,5]\tO\n",
      "Word[0,6]\tboston\t ==\t Tag[0,6]\tB-fromloc.city_name\n",
      "Word[0,7]\tat\t ==\t Tag[0,7]\tO\n",
      "Word[0,8]\t838\t ==\t Tag[0,8]\tB-depart_time.time\n",
      "Word[0,9]\tam\t ==\t Tag[0,9]\tI-depart_time.time\n",
      "Word[0,10]\tand\t ==\t Tag[0,10]\tO\n",
      "Word[0,11]\tarrive\t ==\t Tag[0,11]\tO\n",
      "Word[0,12]\tin\t ==\t Tag[0,12]\tO\n",
      "Word[0,13]\tdenver\t ==\t Tag[0,13]\tB-toloc.city_name\n",
      "Word[0,14]\tat\t ==\t Tag[0,14]\tO\n",
      "Word[0,15]\t1110\t ==\t Tag[0,15]\tB-arrive_time.time\n",
      "Word[0,16]\tin\t ==\t Tag[0,16]\tO\n",
      "Word[0,17]\tthe\t ==\t Tag[0,17]\tO\n",
      "Word[0,18]\tmorning\t ==\t Tag[0,18]\tB-arrive_time.period_of_day\n",
      "Word[0,19]\tEOS\t ==\t Tag[0,19]\tO\n",
      "*************************************************************************\n",
      "Word[1,0]\tBOS\t ==\t Tag[1,0]\tO\n",
      "Word[1,1]\twhat\t ==\t Tag[1,1]\tO\n",
      "Word[1,2]\tflights\t ==\t Tag[1,2]\tO\n",
      "Word[1,3]\tare\t ==\t Tag[1,3]\tO\n",
      "Word[1,4]\tavailable\t ==\t Tag[1,4]\tO\n",
      "Word[1,5]\tfrom\t ==\t Tag[1,5]\tO\n",
      "Word[1,6]\tpittsburgh\t ==\t Tag[1,6]\tB-fromloc.city_name\n",
      "Word[1,7]\tto\t ==\t Tag[1,7]\tO\n",
      "Word[1,8]\tbaltimore\t ==\t Tag[1,8]\tB-toloc.city_name\n",
      "Word[1,9]\ton\t ==\t Tag[1,9]\tO\n",
      "Word[1,10]\tthursday\t ==\t Tag[1,10]\tB-depart_date.day_name\n",
      "Word[1,11]\tmorning\t ==\t Tag[1,11]\tB-depart_time.period_of_day\n",
      "Word[1,12]\tEOS\t ==\t Tag[1,12]\tO\n",
      "*************************************************************************\n",
      "Word[2,0]\tBOS\t ==\t Tag[2,0]\tO\n",
      "Word[2,1]\twhat\t ==\t Tag[2,1]\tO\n",
      "Word[2,2]\tis\t ==\t Tag[2,2]\tO\n",
      "Word[2,3]\tthe\t ==\t Tag[2,3]\tO\n",
      "Word[2,4]\tarrival\t ==\t Tag[2,4]\tB-flight_time\n",
      "Word[2,5]\ttime\t ==\t Tag[2,5]\tI-flight_time\n",
      "Word[2,6]\tin\t ==\t Tag[2,6]\tO\n",
      "Word[2,7]\tsan\t ==\t Tag[2,7]\tB-fromloc.city_name\n",
      "Word[2,8]\tfrancisco\t ==\t Tag[2,8]\tI-fromloc.city_name\n",
      "Word[2,9]\tfor\t ==\t Tag[2,9]\tO\n",
      "Word[2,10]\tthe\t ==\t Tag[2,10]\tO\n",
      "Word[2,11]\t755\t ==\t Tag[2,11]\tB-depart_time.time\n",
      "Word[2,12]\tam\t ==\t Tag[2,12]\tI-depart_time.time\n",
      "Word[2,13]\tflight\t ==\t Tag[2,13]\tO\n",
      "Word[2,14]\tleaving\t ==\t Tag[2,14]\tO\n",
      "Word[2,15]\twashington\t ==\t Tag[2,15]\tB-fromloc.city_name\n",
      "Word[2,16]\tEOS\t ==\t Tag[2,16]\tO\n",
      "*************************************************************************\n"
     ]
    }
   ],
   "source": [
    "#mise en oeuvre de la traduction de query and slot des ids vers les mots reels\n",
    "for s in range(3):\n",
    "    for w in range(len(query[s])):\n",
    "        print(  \"Word[\"+str(s)+\",\"+str(w)+\"]\\t\"+str(i2t.get(query[s][w])) \n",
    "        +\"\\t ==\\t \"+\"Tag[\"+str(s)+\",\"+str(w)+\"]\\t\"+ str(i2s.get(slots[s][w]))\n",
    "         )\n",
    "    print(\"*************************************************************************\")\n"
   ]
  },
  {
   "cell_type": "markdown",
   "metadata": {},
   "source": [
    "# Verification du dataset"
   ]
  },
  {
   "cell_type": "code",
   "execution_count": 18,
   "metadata": {},
   "outputs": [],
   "source": [
    "##Fonction qui cree un vocabilaire pour un set donné\n",
    "def makeVocabOf(Set):\n",
    "    dic = {}\n",
    "    for sentence in Set:\n",
    "                for word in sentence:\n",
    "                    if word in dic:\n",
    "                        dic[word]+=1\n",
    "                    else:\n",
    "                        dic[word]=1\n",
    "    return dic"
   ]
  },
  {
   "cell_type": "code",
   "execution_count": 19,
   "metadata": {},
   "outputs": [],
   "source": [
    "#Fonction qui retourne la distribution de mots entre 2 vocabulaires: le training vocab et le testing vocab \n",
    "#c'est a dire trouver les mots hors vocabulaire (Out-of-Vocabulary) pour le training set, les mots qui n'apparaissent que dans le training set,\n",
    "#les mots qui n'apparaissent que dans le testing set et les mots communs aux deux sets.\n",
    "\n",
    "def wordDistribution(trainVocab,testVocab,  sharedWords,wordsInTrainOnly,wordsInTestOnly):\n",
    "    for e in trainVocab.keys():\n",
    "        if e in testVocab.keys() :\n",
    "            sharedWords.append(e)\n",
    "        else:\n",
    "            wordsInTrainOnly.append(e)\n",
    "\n",
    "    for e in testVocab.keys():\n",
    "        if e not in trainVocab.keys():\n",
    "            wordsInTestOnly.append(e)\n"
   ]
  },
  {
   "cell_type": "code",
   "execution_count": 20,
   "metadata": {},
   "outputs": [
    {
     "name": "stdout",
     "output_type": "stream",
     "text": [
      "-Nombre de mots uniques dans le training set: 891\n",
      "-Nombre de mots uniques dans le testing set : 449\n"
     ]
    }
   ],
   "source": [
    "verifVocabTrain = makeVocabOf(query)\n",
    "print(\"-Nombre de mots uniques dans le training set: \"+str(len(verifVocabTrain)))\n",
    "verifVocabTest = makeVocabOf(testQuery)\n",
    "print(\"-Nombre de mots uniques dans le testing set : \"+str(len(verifVocabTest)))"
   ]
  },
  {
   "cell_type": "code",
   "execution_count": 21,
   "metadata": {},
   "outputs": [
    {
     "data": {
      "image/png": "[encoded data removed]",
      "text/plain": [
       "<Figure size 432x288 with 1 Axes>"
      ]
     },
     "metadata": {
      "needs_background": "light"
     },
     "output_type": "display_data"
    }
   ],
   "source": [
    "# data to plot\n",
    "n_groups = 1\n",
    "names=[]\n",
    "Train = np.array([len(verifVocabTrain)])\n",
    "Test = np.array([len(verifVocabTest)])\n",
    "\n",
    "# create plot\n",
    "fig, ax = plt.subplots()\n",
    "index = np.arange(n_groups)\n",
    "bar_width = 0.28\n",
    "opacity = 0.8\n",
    "\n",
    "rects1 = plt.bar(index, Train, bar_width, alpha=opacity,\n",
    "color='b',\n",
    "label='Train')\n",
    "\n",
    "rects2 = plt.bar(index + bar_width, Test, bar_width,\n",
    "alpha=opacity,\n",
    "color='g',\n",
    "label='Test')\n",
    "\n",
    "plt.xlabel('Sets')\n",
    "plt.ylabel('Taille du Vocabulaire (mots)')\n",
    "plt.title('Taille du vocabulaire du train set vs test set')\n",
    "plt.xticks(index + bar_width, (names))\n",
    "plt.legend()\n",
    "\n",
    "plt.tight_layout()\n",
    "plt.show()\n"
   ]
  },
  {
   "cell_type": "code",
   "execution_count": 22,
   "metadata": {},
   "outputs": [],
   "source": [
    "dist = [ [] , [] ,[]]\n",
    "wordDistribution(verifVocabTrain,verifVocabTest, dist[0],dist[1],dist[2])"
   ]
  },
  {
   "cell_type": "code",
   "execution_count": 23,
   "metadata": {},
   "outputs": [
    {
     "name": "stdout",
     "output_type": "stream",
     "text": [
      "-Mots comuns entre le training et le testing:\t397\n",
      "-Mots dans le training set seulement:\t494\n",
      "-Mots dans le testing set seulement:\t52\n",
      "-Pourcentage de mots hors vocabilaire:\t0.116%\n"
     ]
    }
   ],
   "source": [
    "print(\"-Mots comuns entre le training et le testing:\\t\"+str(len(dist[0])))\n",
    "print(\"-Mots dans le training set seulement:\\t\"+str(len(dist[1])))\n",
    "print(\"-Mots dans le testing set seulement:\\t\"+str(len(dist[2])))\n",
    "\n",
    "print(\"-Pourcentage de mots hors vocabilaire:\\t\"+ str(round(len(dist[2])/len(verifVocabTest),3))+\"%\" )"
   ]
  },
  {
   "cell_type": "code",
   "execution_count": 24,
   "metadata": {},
   "outputs": [
    {
     "data": {
      "image/png": "[encoded data removed]",
      "text/plain": [
       "<Figure size 432x288 with 1 Axes>"
      ]
     },
     "metadata": {
      "needs_background": "light"
     },
     "output_type": "display_data"
    }
   ],
   "source": [
    "# data to plot\n",
    "n_groups = 1\n",
    "names=[]\n",
    "Test = np.array([len(verifVocabTest)])\n",
    "OOV = np.array([len(dist[2])])\n",
    "\n",
    "# create plot\n",
    "fig, ax = plt.subplots()\n",
    "index = np.arange(n_groups)\n",
    "bar_width = 0.28\n",
    "opacity = 0.8\n",
    "\n",
    "rects1 = plt.bar(index, Test, bar_width, alpha=opacity,\n",
    "color='b',\n",
    "label='Test')\n",
    "\n",
    "rects2 = plt.bar(index + bar_width, OOV, bar_width,\n",
    "alpha=opacity,\n",
    "color='g',\n",
    "label='OOV')\n",
    "\n",
    "plt.ylabel('N# mots')\n",
    "plt.title('Analyse de vocabulaire: OOV')\n",
    "plt.xticks(index , (names))\n",
    "plt.legend()\n",
    "\n",
    "plt.tight_layout()\n",
    "plt.show()"
   ]
  },
  {
   "cell_type": "code",
   "execution_count": 25,
   "metadata": {},
   "outputs": [],
   "source": [
    "def countWordsOccurences(list,dict):\n",
    "    res = 0\n",
    "    for word in list:\n",
    "        res += int(dict.get(word))\n",
    "    return res"
   ]
  },
  {
   "cell_type": "code",
   "execution_count": 26,
   "metadata": {},
   "outputs": [
    {
     "name": "stdout",
     "output_type": "stream",
     "text": [
      "Le nombre d'occurences de mots pas vu dans le train: 66 sur 10984\n",
      "Le pourcentage d'occurence de mots non vu pendant le training: 0.006\n"
     ]
    }
   ],
   "source": [
    "numberOfUnseenWords=countWordsOccurences(dist[2],verifVocabTest)\n",
    "numberOfWordsInTest=countWordsOccurences(verifVocabTest.keys(),verifVocabTest)\n",
    "\n",
    "print(\"Le nombre d'occurences de mots pas vu dans le train: \"\n",
    "      +str(numberOfUnseenWords)+\n",
    "      \" sur \"\n",
    "      +str(numberOfWordsInTest))\n",
    "\n",
    "print(\"Le pourcentage d'occurence de mots non vu pendant le training: \"+str(round(numberOfUnseenWords/numberOfWordsInTest,3)))"
   ]
  },
  {
   "cell_type": "code",
   "execution_count": 6,
   "metadata": {},
   "outputs": [
    {
     "data": {
      "image/png": "[encoded data removed]",
      "text/plain": [
       "<Figure size 432x288 with 1 Axes>"
      ]
     },
     "metadata": {
      "needs_background": "light"
     },
     "output_type": "display_data"
    }
   ],
   "source": [
    "# data to plot\n",
    "n_groups = 1\n",
    "names=[]\n",
    "Test = np.array([numberOfWordsInTest])\n",
    "OOV = np.array([numberOfUnseenWords])\n",
    "\n",
    "# create plot\n",
    "fig, ax = plt.subplots()\n",
    "index = np.arange(n_groups)\n",
    "bar_width = 0.28\n",
    "opacity = 0.8\n",
    "\n",
    "rects1 = plt.bar(index, Test, bar_width, alpha=opacity,\n",
    "color='b',\n",
    "label='Test')\n",
    "\n",
    "rects2 = plt.bar(index + bar_width, OOV, bar_width,\n",
    "alpha=opacity,\n",
    "color='g',\n",
    "label='OOV')\n",
    "\n",
    "\n",
    "plt.ylabel('N# mots')\n",
    "plt.title(\"Analyse de vocabulaire: OOV Mots a l'echelle du nombre de mots\")\n",
    "plt.xticks(index , (names))\n",
    "plt.legend()\n",
    "\n",
    "plt.tight_layout()\n",
    "plt.show()"
   ]
  },
  {
   "cell_type": "markdown",
   "metadata": {},
   "source": [
    "------------------"
   ]
  },
  {
   "cell_type": "code",
   "execution_count": 28,
   "metadata": {},
   "outputs": [
    {
     "name": "stdout",
     "output_type": "stream",
     "text": [
      "-Nombre de tags uniques dans le training set: 123\n",
      "-Nombre de tags uniques dans le testing set : 101\n"
     ]
    }
   ],
   "source": [
    "verifTagsTrain = makeVocabOf(slots)\n",
    "print(\"-Nombre de tags uniques dans le training set: \"+str(len(verifTagsTrain)))\n",
    "verifTagsTest = makeVocabOf(testSlots)\n",
    "print(\"-Nombre de tags uniques dans le testing set : \"+str(len(verifTagsTest)))"
   ]
  },
  {
   "cell_type": "code",
   "execution_count": 29,
   "metadata": {},
   "outputs": [],
   "source": [
    "dist = [ [] , [] ,[]]\n",
    "wordDistribution(verifTagsTrain,verifTagsTest, dist[0],dist[1],dist[2])"
   ]
  },
  {
   "cell_type": "code",
   "execution_count": 7,
   "metadata": {},
   "outputs": [
    {
     "name": "stdout",
     "output_type": "stream",
     "text": [
      "-Tags comuns entre le training et le testing: 95\n",
      "-Tags dans le training set seulement: 28\n",
      "-Tags dans le testing set seulement: 6\n",
      "-Pourcentage de Tags hors vocabilaire: 0.013%\n"
     ]
    }
   ],
   "source": [
    "print(\"-Tags comuns entre le training et le testing: \"+str(len(dist[0])))\n",
    "print(\"-Tags dans le training set seulement: \"+str(len(dist[1])))\n",
    "print(\"-Tags dans le testing set seulement: \"+str(len(dist[2])))\n",
    "\n",
    "print(\"-Pourcentage de Tags hors vocabilaire: \"+ str(round(len(dist[2])/len(verifVocabTest),3))+\"%\" )"
   ]
  },
  {
   "cell_type": "code",
   "execution_count": 31,
   "metadata": {},
   "outputs": [
    {
     "data": {
      "image/png": "[encoded data removed]",
      "text/plain": [
       "<Figure size 432x288 with 1 Axes>"
      ]
     },
     "metadata": {
      "needs_background": "light"
     },
     "output_type": "display_data"
    }
   ],
   "source": [
    "# data to plot\n",
    "n_groups = 1\n",
    "names=[]\n",
    "Test = np.array([len(verifTagsTest)])\n",
    "OOV = np.array([len(dist[2])])\n",
    "\n",
    "# create plot\n",
    "fig, ax = plt.subplots()\n",
    "index = np.arange(n_groups)\n",
    "bar_width = 0.28\n",
    "opacity = 0.8\n",
    "\n",
    "rects1 = plt.bar(index, Test, bar_width, alpha=opacity,\n",
    "color='b',\n",
    "label='Test')\n",
    "\n",
    "rects2 = plt.bar(index + bar_width, OOV, bar_width,\n",
    "alpha=opacity,\n",
    "color='g',\n",
    "label='OOV Tags')\n",
    "\n",
    "plt.ylabel('N# Tags')\n",
    "plt.title('Analyse de vocabulaire: OOV Tags')\n",
    "plt.xticks(index , (names))\n",
    "plt.legend()\n",
    "\n",
    "plt.tight_layout()\n",
    "plt.show()"
   ]
  },
  {
   "cell_type": "code",
   "execution_count": 10,
   "metadata": {},
   "outputs": [
    {
     "name": "stdout",
     "output_type": "stream",
     "text": [
      "taux d'occurence du tag 'O' dans le training set  69.12708311418997 %\n"
     ]
    }
   ],
   "source": [
    "print(\"taux d'occurence du tag 'O' dans le training set \",verifTagsTrain.get(128)/countWordsOccurences(verifTagsTrain.keys(),verifTagsTrain)*100,\"%\")"
   ]
  },
  {
   "cell_type": "code",
   "execution_count": 33,
   "metadata": {},
   "outputs": [
    {
     "name": "stdout",
     "output_type": "stream",
     "text": [
      "Le nombre d'occurences de tags pas vu dans le train: 6 sur 10984\n",
      "Le pourcentage d'occurence de tags non vu pendant le training: 0.001\n"
     ]
    }
   ],
   "source": [
    "numberOfUnseenTags=countWordsOccurences(dist[2],verifTagsTest)\n",
    "numberOfTagsInTest=countWordsOccurences(verifTagsTest.keys(),verifTagsTest)\n",
    "\n",
    "print(\"Le nombre d'occurences de tags pas vu dans le train: \"\n",
    "      +str(numberOfUnseenTags)+\n",
    "      \" sur \"\n",
    "      +str(numberOfTagsInTest))\n",
    "\n",
    "print(\"Le pourcentage d'occurence de tags non vu pendant le training: \"+str(round(numberOfUnseenTags/numberOfTagsInTest,3)))"
   ]
  },
  {
   "cell_type": "code",
   "execution_count": 34,
   "metadata": {},
   "outputs": [
    {
     "data": {
      "image/png": "[encoded data removed]",
      "text/plain": [
       "<Figure size 432x288 with 1 Axes>"
      ]
     },
     "metadata": {
      "needs_background": "light"
     },
     "output_type": "display_data"
    }
   ],
   "source": [
    "# data to plot\n",
    "n_groups = 1\n",
    "names=[]\n",
    "Test = np.array([numberOfTagsInTest])\n",
    "OOV = np.array([numberOfUnseenTags])\n",
    "\n",
    "# create plot\n",
    "fig, ax = plt.subplots()\n",
    "index = np.arange(n_groups)\n",
    "bar_width = 0.28\n",
    "opacity = 0.8\n",
    "\n",
    "rects1 = plt.bar(index, Test, bar_width, alpha=opacity,\n",
    "color='b',\n",
    "label='Test')\n",
    "\n",
    "rects2 = plt.bar(index + bar_width, OOV, bar_width,\n",
    "alpha=opacity,\n",
    "color='g',\n",
    "label='Mots avec OOV Tags')\n",
    "\n",
    "plt.ylabel('N# mots')\n",
    "plt.title(\"Analyse de vocabulaire: OOV Tags a l'echelle du nombre de mots\")\n",
    "plt.xticks(index , (names))\n",
    "plt.legend()\n",
    "\n",
    "plt.tight_layout()\n",
    "plt.show()"
   ]
  },
  {
   "cell_type": "markdown",
   "metadata": {},
   "source": [
    "# Apprentissage par réseau récurrent"
   ]
  },
  {
   "cell_type": "markdown",
   "metadata": {},
   "source": [
    "## Création du modèle\n",
    "\n",
    "On utilise un LSTM pour réaliser le modèle. Ainsi le modèle possède 3 composantes:\n",
    "\n",
    "- une réseau LSTM qui se déplie sur la séquence de mots à traiter\n",
    "- un module Embedding qui s'occupe de la projection des mots\n",
    "- une couche linéaire prolongée par un log-softmax pour la prédiction."
   ]
  },
  {
   "cell_type": "code",
   "execution_count": 4,
   "metadata": {},
   "outputs": [],
   "source": [
    "class RecurrentTagger(nn.Module):\n",
    "\n",
    "    def __init__(self, embedding_dim, hidden_dim, vocab_size, tagset_size):\n",
    "        super(RecurrentTagger, self).__init__()\n",
    "        self.hidden_dim = hidden_dim\n",
    "\n",
    "        self.word_embeddings = nn.Embedding(vocab_size, embedding_dim)\n",
    "\n",
    "        # The LSTM takes word embeddings as inputs, and outputs hidden states\n",
    "        # with dimensionality hidden_dim.à\n",
    "        self.lstm = nn.LSTM(embedding_dim, hidden_dim)\n",
    "\n",
    "        # The linear layer that maps from hidden state space to tag space\n",
    "        self.hidden2tag = nn.Linear(hidden_dim, tagset_size)\n",
    "        self.hidden = self.init_hidden()\n",
    "\n",
    "    def init_hidden(self):\n",
    "        # Cette fonction est donnée mais il faut bien la comprendre\n",
    "        return (torch.zeros(1, 1, self.hidden_dim),\n",
    "                torch.zeros(1, 1, self.hidden_dim))\n",
    "\n",
    "    def forward(self, sentence):\n",
    "        embeds = self.word_embeddings(sentence)\n",
    "        lstm_out, self.hidden = self.lstm(embeds.view(len(sentence), 1, -1), self.hidden)\n",
    "        tag_space = self.hidden2tag(lstm_out.view(len(sentence), -1))\n",
    "        tag_scores = F.softmax(tag_space, dim=1)\n",
    "        return tag_scores"
   ]
  },
  {
   "cell_type": "code",
   "execution_count": 36,
   "metadata": {},
   "outputs": [],
   "source": [
    "def makeModel(EMBEDDING, HIDDEN, ep):\n",
    "    EMBEDDING_DIM = EMBEDDING\n",
    "    HIDDEN_DIM = HIDDEN\n",
    "    foomodel = RecurrentTagger(EMBEDDING_DIM ,HIDDEN_DIM , len(t2i), len(s2i))\n",
    "\n",
    "    loss_function = nn.NLLLoss()\n",
    "    optimizer = optim.Adam(foomodel.parameters(), lr=0.01)\n",
    "\n",
    "\n",
    "    ########\n",
    "    losses = list()\n",
    "    for epoch in range(ep):\n",
    "        #print(\"###################\",epoch,\"############################\")\n",
    "        i=0\n",
    "        epoch_acc = 0\n",
    "        nb_mots = 0\n",
    "        epoch_loss = 0 \n",
    "        for example in query:\n",
    "\n",
    "            foomodel.zero_grad()                       #mise à zéro du gradient\n",
    "            foomodel.hidden = foomodel.init_hidden()   #mise à zéro des couches cachées\n",
    "\n",
    "            outp = foomodel(torch.LongTensor(example)) #définition de l'output du modèle\n",
    "            targets = torch.LongTensor(slots[i])       #définition des solutions\n",
    "\n",
    "            loss = loss_function(outp, targets)        #calcul de la loss\n",
    "            loss.backward()                            #calcul des gradients de la loss\n",
    "            optimizer.step()                           #passer une étape dans l'optimiseur\n",
    "            epoch_loss+=loss\n",
    "            i+=1\n",
    "\n",
    "            #print(\"TEST \", i)\n",
    "            #print(outp.shape)\n",
    "            #print(outp[0].shape)\n",
    "\n",
    "            total_accuracy = 0\n",
    "            j_max = 0\n",
    "            total_mots = len(targets)\n",
    "            correct = 0\n",
    "            for j,w in enumerate(example):\n",
    "                predict = outp[j].max(-1)[1]\n",
    "                #print(\"-Predicted indice:\", predict)\n",
    "                #print(\"-Predicted slot:\", i2s.get(predict.item()), \" for \", i2s.get(targets[j].item()))\n",
    "                #print(\"For: \", targets[j] )\n",
    "                #print(\"-Likelyhood of slot:\", outp[j].max(-1)[0])\n",
    "                correct += (predict == targets[j]).sum().item()\n",
    "            epoch_acc+=correct\n",
    "            nb_mots += total_mots\n",
    "        #print(epoch, \"précision : \", epoch_acc*100/nb_mots, \"%\")\n",
    "        losses.append(epoch_loss)\n",
    "        #print(\"###################\",epoch,\"############################\")\n",
    "        if(epoch >= ep-1 ):\n",
    "            print(epoch_acc*100/nb_mots)\n",
    "            \n",
    "    return foomodel\n",
    "\n"
   ]
  },
  {
   "cell_type": "markdown",
   "metadata": {},
   "source": [
    "## Test des models"
   ]
  },
  {
   "cell_type": "markdown",
   "metadata": {},
   "source": [
    "Maintenant que nous pouvons cree des models entrainés, il est interessant de tester differents models avec des parametre differents, pour ce faire nous creons les fonctions suivantes pour automatisé le processus de test"
   ]
  },
  {
   "cell_type": "code",
   "execution_count": 37,
   "metadata": {},
   "outputs": [],
   "source": [
    "# Fonction a laquelle on donne un model, une phrase et les tags de la phrase \n",
    "# et qui nous renvoit le nombre de tags predit correctement\n",
    "# Elle permet aussi d'observer les resultats de predictions en décomentant les prints (for Debugging) \n",
    "def predictSentence(model, sent,targets):\n",
    "    total =0\n",
    "    success = 0\n",
    "    outp = model(torch.LongTensor(sent))\n",
    "    for j,w in enumerate(sent):\n",
    "        predict = outp[j].max(-1)[1]\n",
    "        if(predict.item() == targets[j].item()):\n",
    "            success +=1\n",
    "        total+=1\n",
    "        #print(\"-Predicted indice:\", predict)\n",
    "        #print(\"-Predicted slot:\", i2s.get(predict.item()), \" for \", i2s.get(targets[j].item()))\n",
    "        #print(\"For: \", targets[j] )\n",
    "        #print(\"-Likelyhood of slot:\", outp[j].max(-1)[0])\n",
    "        #print(success,\"/\",total)      \n",
    "    return success\n",
    "\n",
    "\n",
    "# Fonction a laquelle on donne un model, un dataset avec des query et des slots\n",
    "#et qui nous renvoit la precision en % de la prediction\n",
    "def calculatePrecision(model,test,target):\n",
    "    success = 0\n",
    "    total   = 0\n",
    "    for s in range(len(test)):\n",
    "        success += predictSentence(model, test[s],target[s])\n",
    "    \n",
    "    for sent in test:\n",
    "        total+=len(sent)\n",
    "    \n",
    "    return (success/total)*100\n"
   ]
  },
  {
   "cell_type": "code",
   "execution_count": 38,
   "metadata": {},
   "outputs": [],
   "source": [
    "#fonctions pour cree plusieurs models avec des ratios EMBED x HIDDEN differents \n",
    "#Pour explorer l'influance de ces paramettres sur la qualité de la prediction\n",
    "def makeModelsList():\n",
    "    models =  [[0,0,0,0],\n",
    "               [0,0,0,0],\n",
    "               [0,0,0,0],\n",
    "               [0,0,0,0]]\n",
    "    \n",
    "    for EMBED in range(5,21,5):\n",
    "        for HID in range(5,21,5):\n",
    "            print(\"Embeding: \",EMBED,\" Hidden: \",HID)\n",
    "            models[int(EMBED/5)-1][int(HID/5)-1] = makeModel(EMBED, HID, 10)\n",
    "    return models\n",
    "\n",
    "#Fonction pour calculer la precision de prediction de chaque model d une liste donnée (5x5) \n",
    "def makePrecisionTable(modList,query, slots):\n",
    "    res = [[0,0,0,0],\n",
    "           [0,0,0,0],\n",
    "           [0,0,0,0],\n",
    "           [0,0,0,0]]\n",
    "    \n",
    "    for EMBED in range(4):\n",
    "        for HID in range(4):\n",
    "            print(\"Embeding: \",(EMBED+1)*5,\" Hidden: \",(HID+1)*5)\n",
    "            res[EMBED][HID] = calculatePrecision(modList[EMBED][HID],query, slots)\n",
    "            print(res[EMBED][HID])\n",
    "    return res"
   ]
  },
  {
   "cell_type": "markdown",
   "metadata": {},
   "source": [
    "## Comparatif des resultats en fonction du nombre de Hidden layers et du Embeding size"
   ]
  },
  {
   "cell_type": "code",
   "execution_count": 39,
   "metadata": {},
   "outputs": [
    {
     "name": "stdout",
     "output_type": "stream",
     "text": [
      "Embeding:  5  Hidden:  5\n",
      "81.89249703217276\n",
      "Embeding:  5  Hidden:  10\n",
      "87.82214074263302\n",
      "Embeding:  5  Hidden:  15\n",
      "69.12708311418997\n",
      "Embeding:  5  Hidden:  20\n",
      "69.12708311418997\n",
      "Embeding:  10  Hidden:  5\n",
      "85.08723158068733\n",
      "Embeding:  10  Hidden:  10\n",
      "86.14963860128931\n",
      "Embeding:  10  Hidden:  15\n",
      "85.63120801839301\n",
      "Embeding:  10  Hidden:  20\n",
      "69.12708311418997\n",
      "Embeding:  15  Hidden:  5\n",
      "85.60115407155845\n",
      "Embeding:  15  Hidden:  10\n",
      "86.96710595518957\n",
      "Embeding:  15  Hidden:  15\n",
      "88.16024764452192\n",
      "Embeding:  15  Hidden:  20\n",
      "89.68698814371797\n",
      "Embeding:  20  Hidden:  5\n",
      "84.94597803056486\n",
      "Embeding:  20  Hidden:  10\n",
      "88.91009361804439\n",
      "Embeding:  20  Hidden:  15\n",
      "87.9588862007303\n",
      "Embeding:  20  Hidden:  20\n",
      "69.12708311418997\n"
     ]
    }
   ],
   "source": [
    "modelsList = makeModelsList()\n",
    "dill.dump_session('TER_Chakhchoukh_Lemasson.db')"
   ]
  },
  {
   "cell_type": "code",
   "execution_count": 40,
   "metadata": {},
   "outputs": [
    {
     "name": "stdout",
     "output_type": "stream",
     "text": [
      "#####################  Training Sets  #####################\n",
      "Embeding:  5  Hidden:  5\n",
      "81.89249703217276\n",
      "Embeding:  5  Hidden:  10\n",
      "87.91230258313672\n",
      "Embeding:  5  Hidden:  15\n",
      "69.12708311418997\n",
      "Embeding:  5  Hidden:  20\n",
      "69.12708311418997\n",
      "Embeding:  10  Hidden:  5\n",
      "85.65975926788586\n",
      "Embeding:  10  Hidden:  10\n",
      "86.74320405127204\n",
      "Embeding:  10  Hidden:  15\n",
      "85.93926097344735\n",
      "Embeding:  10  Hidden:  20\n",
      "69.12708311418997\n",
      "Embeding:  15  Hidden:  5\n",
      "85.72136985889672\n",
      "Embeding:  15  Hidden:  10\n",
      "86.93104121898809\n",
      "Embeding:  15  Hidden:  15\n",
      "88.47581408628487\n",
      "Embeding:  15  Hidden:  20\n",
      "89.76963649751303\n",
      "Embeding:  20  Hidden:  5\n",
      "85.1323125009392\n",
      "Embeding:  20  Hidden:  10\n",
      "88.41720888995748\n",
      "Embeding:  20  Hidden:  15\n",
      "88.23387981426661\n",
      "Embeding:  20  Hidden:  20\n",
      "69.12708311418997\n"
     ]
    }
   ],
   "source": [
    "print(\"#####################  Training Sets  #####################\")\n",
    "precisionOnTrainSet = makePrecisionTable(modelsList,query, slots)\n",
    "dill.dump_session('TER_Chakhchoukh_Lemasson.db')"
   ]
  },
  {
   "cell_type": "code",
   "execution_count": 41,
   "metadata": {},
   "outputs": [
    {
     "name": "stdout",
     "output_type": "stream",
     "text": [
      "#####################  Testing Sets  #####################\n",
      "Embeding:  5  Hidden:  5\n",
      "79.23343044428259\n",
      "Embeding:  5  Hidden:  10\n",
      "86.3073561544064\n",
      "Embeding:  5  Hidden:  15\n",
      "66.6332847778587\n",
      "Embeding:  5  Hidden:  20\n",
      "66.6332847778587\n",
      "Embeding:  10  Hidden:  5\n",
      "84.55025491624181\n",
      "Embeding:  10  Hidden:  10\n",
      "86.99016751638747\n",
      "Embeding:  10  Hidden:  15\n",
      "85.34231609613984\n",
      "Embeding:  10  Hidden:  20\n",
      "66.6332847778587\n",
      "Embeding:  15  Hidden:  5\n",
      "85.06919155134742\n",
      "Embeding:  15  Hidden:  10\n",
      "86.37108521485798\n",
      "Embeding:  15  Hidden:  15\n",
      "86.66241806263656\n",
      "Embeding:  15  Hidden:  20\n",
      "87.67297887836854\n",
      "Embeding:  20  Hidden:  5\n",
      "83.10269482884195\n",
      "Embeding:  20  Hidden:  10\n",
      "88.25564457392571\n",
      "Embeding:  20  Hidden:  15\n",
      "88.401310997815\n",
      "Embeding:  20  Hidden:  20\n",
      "66.6332847778587\n"
     ]
    }
   ],
   "source": [
    "print(\"#####################  Testing Sets  #####################\")\n",
    "precisionOnTestSet =  makePrecisionTable(modelsList,testQuery, testSlots)\n",
    "dill.dump_session('TER_Chakhchoukh_Lemasson.db')"
   ]
  },
  {
   "cell_type": "code",
   "execution_count": 42,
   "metadata": {},
   "outputs": [
    {
     "name": "stdout",
     "output_type": "stream",
     "text": [
      "#####################  Training Sets  #####################\n",
      "[[81.89249703 87.91230258 69.12708311 69.12708311]\n",
      " [85.65975927 86.74320405 85.93926097 69.12708311]\n",
      " [85.72136986 86.93104122 88.47581409 89.7696365 ]\n",
      " [85.1323125  88.41720889 88.23387981 69.12708311]]\n",
      "#####################  Testing Sets  #####################\n",
      "[[79.23343044 86.30735615 66.63328478 66.63328478]\n",
      " [84.55025492 86.99016752 85.3423161  66.63328478]\n",
      " [85.06919155 86.37108521 86.66241806 87.67297888]\n",
      " [83.10269483 88.25564457 88.401311   66.63328478]]\n"
     ]
    }
   ],
   "source": [
    "print(\"#####################  Training Sets  #####################\")\n",
    "print(np.matrix(precisionOnTrainSet))\n",
    "print(\"#####################  Testing Sets  #####################\")\n",
    "print(np.matrix(precisionOnTestSet))"
   ]
  },
  {
   "cell_type": "code",
   "execution_count": 43,
   "metadata": {},
   "outputs": [
    {
     "data": {
      "text/plain": [
       "Text(0.5, 1.0, 'Precision de prediction pour le Training set (%)')"
      ]
     },
     "execution_count": 43,
     "metadata": {},
     "output_type": "execute_result"
    },
    {
     "data": {
      "image/png": "[encoded data removed]",
      "text/plain": [
       "<Figure size 432x288 with 2 Axes>"
      ]
     },
     "metadata": {},
     "output_type": "display_data"
    }
   ],
   "source": [
    "import seaborn as sns; sns.set()\n",
    "mp = pd.DataFrame(precisionOnTrainSet,columns=[\"Hid 5\",\"Hid 10\",\"Hid 15\",\"Hid 20\"],index=[\"Emb 5\",\"Emb 10\",\"Emb 15\",\"Emb 20\"])\n",
    "ax = sns.heatmap(mp ,annot=True, fmt=\"f\")\n",
    "ax.set_title('Precision de prediction pour le Training set (%)')"
   ]
  },
  {
   "cell_type": "code",
   "execution_count": 44,
   "metadata": {},
   "outputs": [
    {
     "data": {
      "text/plain": [
       "Text(0.5, 1.0, 'Precision de prediction pour le Testing set (%) ')"
      ]
     },
     "execution_count": 44,
     "metadata": {},
     "output_type": "execute_result"
    },
    {
     "data": {
      "image/png": "[encoded data removed]",
      "text/plain": [
       "<Figure size 432x288 with 2 Axes>"
      ]
     },
     "metadata": {},
     "output_type": "display_data"
    }
   ],
   "source": [
    "import seaborn as sns; sns.set()\n",
    "mp = pd.DataFrame(precisionOnTestSet,columns=[\"Hid 5\",\"Hid 10\",\"Hid 15\",\"Hid 20\"],index=[\"Emb 5\",\"Emb 10\",\"Emb 15\",\"Emb 20\"])\n",
    "ax = sns.heatmap(mp,annot=True, fmt=\"f\")\n",
    "ax.set_title('Precision de prediction pour le Testing set (%) ')"
   ]
  },
  {
   "cell_type": "code",
   "execution_count": 45,
   "metadata": {},
   "outputs": [],
   "source": [
    "#Sauvegarde de l etat du jupyter avec les models pour eviter de les recalculer a chaque fois qu'on ferme le projet\n",
    "dill.dump_session('TER_Chakhchoukh_Lemasson.db')"
   ]
  },
  {
   "cell_type": "markdown",
   "metadata": {},
   "source": [
    "## Comparatif de la precision de prediction en fonction de la quantité de learning data"
   ]
  },
  {
   "cell_type": "code",
   "execution_count": 46,
   "metadata": {},
   "outputs": [
    {
     "name": "stdout",
     "output_type": "stream",
     "text": [
      "nombre de phrases dans le learning set: 4978\n"
     ]
    }
   ],
   "source": [
    "print(\"nombre de phrases dans le learning set:\", len(query))"
   ]
  },
  {
   "cell_type": "markdown",
   "metadata": {},
   "source": [
    "On adapte les fonctions pour pouvoir cree un model a partir de n'importe quel couple de training-target data\n",
    "ainsi on creera un groupe de models entrainés avec de plus en plus de data au fur et a mesure "
   ]
  },
  {
   "cell_type": "code",
   "execution_count": 47,
   "metadata": {},
   "outputs": [],
   "source": [
    "def makeModel_2(EMBEDDING, HIDDEN,ep,query,slots):\n",
    "    EMBEDDING_DIM = EMBEDDING\n",
    "    HIDDEN_DIM = HIDDEN\n",
    "    foomodel = RecurrentTagger(EMBEDDING_DIM ,HIDDEN_DIM , len(t2i), len(s2i))\n",
    "\n",
    "    loss_function = nn.NLLLoss()\n",
    "    optimizer = optim.Adam(foomodel.parameters(), lr=0.01)\n",
    "\n",
    "\n",
    "    ########\n",
    "    losses = list()\n",
    "    for epoch in range(ep):\n",
    "        print(\"###################\",epoch,\"############################\")\n",
    "        i=0\n",
    "        epoch_acc = 0\n",
    "        nb_mots = 0\n",
    "        epoch_loss = 0 \n",
    "        for example in query:\n",
    "\n",
    "            foomodel.zero_grad()                       #mise à zéro du gradient\n",
    "            foomodel.hidden = foomodel.init_hidden()   #mise à zéro des couches cachées\n",
    "\n",
    "            outp = foomodel(torch.LongTensor(example)) #définition de l'output du modèle\n",
    "            targets = torch.LongTensor(slots[i])       #définition des solutions\n",
    "\n",
    "            loss = loss_function(outp, targets)        #calcul de la loss\n",
    "            loss.backward()                            #calcul des gradients de la loss\n",
    "            optimizer.step()                           #passer une étape dans l'optimiseur\n",
    "            epoch_loss+=loss\n",
    "            i+=1\n",
    "\n",
    "            #print(\"TEST \", i)\n",
    "            #print(outp.shape)\n",
    "            #print(outp[0].shape)\n",
    "\n",
    "            total_accuracy = 0\n",
    "            j_max = 0\n",
    "            total_mots = len(targets)\n",
    "            correct = 0\n",
    "            for j,w in enumerate(example):\n",
    "                predict = outp[j].max(-1)[1]\n",
    "                correct += (predict == targets[j]).sum().item()\n",
    "            epoch_acc+=correct\n",
    "            nb_mots += total_mots\n",
    "        print(epoch, \"précision : \", epoch_acc*100/nb_mots, \"%\")\n",
    "        losses.append(epoch_loss)\n",
    "        if(epoch >= ep-1 ):\n",
    "            print(epoch_acc*100/nb_mots)\n",
    "            \n",
    "    return foomodel\n"
   ]
  },
  {
   "cell_type": "code",
   "execution_count": 48,
   "metadata": {},
   "outputs": [],
   "source": [
    "def makePrecisionT(modList,query, slots):\n",
    "    res =  [0,0,0,0,0,0,0,0,0]\n",
    "    for i in range(len(res)):\n",
    "            print(\"model: \", i)\n",
    "            res[i] = calculatePrecision(modList[i],query, slots)\n",
    "            print(res[i])\n",
    "    return res\n"
   ]
  },
  {
   "cell_type": "code",
   "execution_count": 49,
   "metadata": {},
   "outputs": [
    {
     "name": "stdout",
     "output_type": "stream",
     "text": [
      "Creation du model avec un dataset de 200 phrases\n",
      "################### 0 ############################\n",
      "0 précision :  66.61682242990655 %\n",
      "################### 1 ############################\n",
      "1 précision :  69.1588785046729 %\n",
      "################### 2 ############################\n",
      "2 précision :  69.1588785046729 %\n",
      "################### 3 ############################\n",
      "3 précision :  69.1588785046729 %\n",
      "################### 4 ############################\n",
      "4 précision :  69.1588785046729 %\n",
      "################### 5 ############################\n",
      "5 précision :  69.1588785046729 %\n",
      "################### 6 ############################\n",
      "6 précision :  69.1588785046729 %\n",
      "################### 7 ############################\n",
      "7 précision :  69.1588785046729 %\n",
      "################### 8 ############################\n",
      "8 précision :  69.1588785046729 %\n",
      "################### 9 ############################\n",
      "9 précision :  69.1588785046729 %\n",
      "69.1588785046729\n",
      "creation du model avec un dataset de 400 phrases\n",
      "################### 0 ############################\n",
      "0 précision :  67.94895852880465 %\n",
      "################### 1 ############################\n",
      "1 précision :  69.18746481516231 %\n",
      "################### 2 ############################\n",
      "2 précision :  69.18746481516231 %\n",
      "################### 3 ############################\n",
      "3 précision :  69.18746481516231 %\n",
      "################### 4 ############################\n",
      "4 précision :  69.18746481516231 %\n",
      "################### 5 ############################\n",
      "5 précision :  69.18746481516231 %\n",
      "################### 6 ############################\n",
      "6 précision :  69.31882154250329 %\n",
      "################### 7 ############################\n",
      "7 précision :  69.69412647776318 %\n",
      "################### 8 ############################\n",
      "8 précision :  70.369675361231 %\n",
      "################### 9 ############################\n",
      "9 précision :  75.37999624695065 %\n",
      "75.37999624695065\n",
      "creation du model avec un dataset de 600 phrases\n",
      "################### 0 ############################\n",
      "0 précision :  68.37308028467973 %\n",
      "################### 1 ############################\n",
      "1 précision :  68.77263079036085 %\n",
      "################### 2 ############################\n",
      "2 précision :  68.77263079036085 %\n",
      "################### 3 ############################\n",
      "3 précision :  68.77263079036085 %\n",
      "################### 4 ############################\n",
      "4 précision :  69.83393682107629 %\n",
      "################### 5 ############################\n",
      "5 précision :  80.63428642776876 %\n",
      "################### 6 ############################\n",
      "6 précision :  82.71944062929205 %\n",
      "################### 7 ############################\n",
      "7 précision :  83.06904732176302 %\n",
      "################### 8 ############################\n",
      "8 précision :  83.14396304157822 %\n",
      "################### 9 ############################\n",
      "9 précision :  83.14396304157822 %\n",
      "83.14396304157822\n",
      "creation du model avec un dataset de 800 phrases\n",
      "################### 0 ############################\n",
      "0 précision :  68.5800319939776 %\n",
      "################### 1 ############################\n",
      "1 précision :  68.89056177660676 %\n",
      "################### 2 ############################\n",
      "2 précision :  68.89056177660676 %\n",
      "################### 3 ############################\n",
      "3 précision :  72.52281923402654 %\n",
      "################### 4 ############################\n",
      "4 précision :  75.00705749505975 %\n",
      "################### 5 ############################\n",
      "5 précision :  80.86948339136163 %\n",
      "################### 6 ############################\n",
      "6 précision :  81.54700291709796 %\n",
      "################### 7 ############################\n",
      "7 précision :  82.86440199491861 %\n",
      "################### 8 ############################\n",
      "8 précision :  83.2690317116778 %\n",
      "################### 9 ############################\n",
      "9 précision :  84.26649101345629 %\n",
      "84.26649101345629\n",
      "Creation du model avec un dataset de 1000 phrases\n",
      "################### 0 ############################\n",
      "0 précision :  68.75 %\n",
      "################### 1 ############################\n",
      "1 précision :  69.11676646706587 %\n",
      "################### 2 ############################\n",
      "2 précision :  72.14071856287426 %\n",
      "################### 3 ############################\n",
      "3 précision :  75.40419161676647 %\n",
      "################### 4 ############################\n",
      "4 précision :  80.39670658682634 %\n",
      "################### 5 ############################\n",
      "5 précision :  83.97455089820359 %\n",
      "################### 6 ############################\n",
      "6 précision :  84.33383233532935 %\n",
      "################### 7 ############################\n",
      "7 précision :  84.42365269461078 %\n",
      "################### 8 ############################\n",
      "8 précision :  84.76047904191617 %\n",
      "################### 9 ############################\n",
      "9 précision :  85.67365269461078 %\n",
      "85.67365269461078\n",
      "creation du model avec un dataset de 2000 phrases\n",
      "################### 0 ############################\n",
      "0 précision :  68.73970962430774 %\n",
      "################### 1 ############################\n",
      "1 précision :  68.8295165394402 %\n",
      "################### 2 ############################\n",
      "2 précision :  68.8295165394402 %\n",
      "################### 3 ############################\n",
      "3 précision :  68.8295165394402 %\n",
      "################### 4 ############################\n",
      "4 précision :  68.8295165394402 %\n",
      "################### 5 ############################\n",
      "5 précision :  69.02784014369107 %\n",
      "################### 6 ############################\n",
      "6 précision :  82.74958838497231 %\n",
      "################### 7 ############################\n",
      "7 précision :  83.48675348001797 %\n",
      "################### 8 ############################\n",
      "8 précision :  83.55036671157012 %\n",
      "################### 9 ############################\n",
      "9 précision :  84.05553060919024 %\n",
      "84.05553060919024\n",
      "creation du model avec un dataset de 3000 phrases\n",
      "################### 0 ############################\n",
      "0 précision :  69.05319838460387 %\n",
      "################### 1 ############################\n",
      "1 précision :  73.59525352744677 %\n",
      "################### 2 ############################\n",
      "2 précision :  84.7634242409134 %\n",
      "################### 3 ############################\n",
      "3 précision :  85.05260008974423 %\n",
      "################### 4 ############################\n",
      "4 précision :  87.05190207907464 %\n",
      "################### 5 ############################\n",
      "5 précision :  87.61031061474797 %\n",
      "################### 6 ############################\n",
      "6 précision :  87.80724933938276 %\n",
      "################### 7 ############################\n",
      "7 précision :  88.14628309318442 %\n",
      "################### 8 ############################\n",
      "8 précision :  88.5152315899686 %\n",
      "################### 9 ############################\n",
      "9 précision :  88.6299047714015 %\n",
      "88.6299047714015\n",
      "creation du model avec un dataset de 4000 phrases\n",
      "################### 0 ############################\n",
      "0 précision :  70.27304646645749 %\n",
      "################### 1 ############################\n",
      "1 précision :  83.07373375168086 %\n",
      "################### 2 ############################\n",
      "2 précision :  83.6881816823547 %\n",
      "################### 3 ############################\n",
      "3 précision :  85.26632302405498 %\n",
      "################### 4 ############################\n",
      "4 précision :  86.19079635440012 %\n",
      "################### 5 ############################\n",
      "5 précision :  86.8257881368594 %\n",
      "################### 6 ############################\n",
      "6 précision :  87.28709099058717 %\n",
      "################### 7 ############################\n",
      "7 précision :  87.44770655909159 %\n",
      "################### 8 ############################\n",
      "8 précision :  87.67182130584193 %\n",
      "################### 9 ############################\n",
      "9 précision :  87.67742417451068 %\n",
      "87.67742417451068\n",
      "creation du model avec un dataset de 4978 phrases\n",
      "################### 0 ############################\n",
      "0 précision :  76.1071122665184 %\n",
      "################### 1 ############################\n",
      "1 précision :  86.09403879964536 %\n",
      "################### 2 ############################\n",
      "2 précision :  86.63350714532586 %\n",
      "################### 3 ############################\n",
      "3 précision :  87.30671555442018 %\n",
      "################### 4 ############################\n",
      "4 précision :  87.94686462199648 %\n",
      "################### 5 ############################\n",
      "5 précision :  88.28947961591057 %\n",
      "################### 6 ############################\n",
      "6 précision :  88.33305783882068 %\n",
      "################### 7 ############################\n",
      "7 précision :  88.74179151577081 %\n",
      "################### 8 ############################\n",
      "8 précision :  89.14150900867057 %\n",
      "################### 9 ############################\n",
      "9 précision :  89.57128044840489 %\n",
      "89.57128044840489\n"
     ]
    }
   ],
   "source": [
    "mods15 = [0,0,0,0,0,0,0,0,0]\n",
    "\n",
    "print(\"Creation du model avec un dataset de 200 phrases\")\n",
    "mods15[0] = makeModel_2(15,15,10,query[0:200],slots[0:200])\n",
    "print(\"creation du model avec un dataset de 400 phrases\")\n",
    "mods15[1] = makeModel_2(15,15,10,query[0:400],slots[0:400])\n",
    "print(\"creation du model avec un dataset de 600 phrases\")\n",
    "mods15[2] = makeModel_2(15,15,10,query[0:600],slots[0:600])\n",
    "print(\"creation du model avec un dataset de 800 phrases\")\n",
    "mods15[3] = makeModel_2(15,15,10,query[0:800],slots[0:800])\n",
    "### Sub 1000\n",
    "print(\"Creation du model avec un dataset de 1000 phrases\")\n",
    "mods15[4] = makeModel_2(15,15,10,query[0:1000],slots[0:1000])\n",
    "print(\"creation du model avec un dataset de 2000 phrases\")\n",
    "mods15[5] = makeModel_2(15,15,10,query[0:2000],slots[0:2000])\n",
    "print(\"creation du model avec un dataset de 3000 phrases\")\n",
    "mods15[6] = makeModel_2(15,15,10,query[0:3000],slots[0:3000])\n",
    "print(\"creation du model avec un dataset de 4000 phrases\")\n",
    "mods15[7] = makeModel_2(15,15,10,query[0:4000],slots[0:4000])\n",
    "print(\"creation du model avec un dataset de 4978 phrases\")\n",
    "mods15[8] = makeModel_2(15,15,10,query,slots)\n",
    "\n",
    "dill.dump_session('TER_Chakhchoukh_Lemasson.db')"
   ]
  },
  {
   "cell_type": "code",
   "execution_count": 50,
   "metadata": {},
   "outputs": [
    {
     "name": "stdout",
     "output_type": "stream",
     "text": [
      "model:  0\n",
      "66.6332847778587\n",
      "model:  1\n",
      "73.17006554989075\n",
      "model:  2\n",
      "79.4701383831027\n",
      "model:  3\n",
      "82.32884195193007\n",
      "model:  4\n",
      "84.20429715950473\n",
      "model:  5\n",
      "82.94792425345958\n",
      "model:  6\n",
      "87.82774945375091\n",
      "model:  7\n",
      "87.58193736343772\n",
      "model:  8\n",
      "87.85506190823014\n"
     ]
    }
   ],
   "source": [
    "mods15Precision = makePrecisionT(mods15, testQuery, testSlots)"
   ]
  },
  {
   "cell_type": "code",
   "execution_count": 51,
   "metadata": {},
   "outputs": [
    {
     "data": {
      "image/png": "[encoded data removed]",
      "text/plain": [
       "<Figure size 432x288 with 1 Axes>"
      ]
     },
     "metadata": {},
     "output_type": "display_data"
    }
   ],
   "source": [
    "import matplotlib.pyplot as plt\n",
    "plt.plot([200, 400, 600, 800,1000, 2000, 3000, 4000, 4978],mods15Precision)\n",
    "\n",
    "#plt.xticks(np.arange(5), ('1000', '2000', '3000', '4000', '4978'))\n",
    "\n",
    "plt.title(\"Précision de Prédiction en fonction de la quantité de données d'entrainement\" )\n",
    "plt.xlabel('Phrases de Training')\n",
    "plt.ylabel('precision (%)')\n",
    "\n",
    "plt.show()"
   ]
  },
  {
   "cell_type": "code",
   "execution_count": 23,
   "metadata": {},
   "outputs": [],
   "source": [
    "#Sauvegarde de l etat du jupyter avec les models pour eviter de les recalculer a chaque fois qu'on ferme le projet\n",
    "dill.dump_session('TER_Chakhchoukh_Lemasson.db')"
   ]
  },
  {
   "cell_type": "markdown",
   "metadata": {},
   "source": [
    "----------------------------------------------------------"
   ]
  },
  {
   "cell_type": "markdown",
   "metadata": {},
   "source": [
    "# Exploration du resultat final"
   ]
  },
  {
   "cell_type": "code",
   "execution_count": 53,
   "metadata": {},
   "outputs": [],
   "source": [
    "#choix du meuilleur reseau neuronal\n",
    "final = mods15[8]"
   ]
  },
  {
   "cell_type": "code",
   "execution_count": 54,
   "metadata": {},
   "outputs": [],
   "source": [
    "#Fonction qui fait et affiche la prediction d'un model donnée sur une phrase donnée \n",
    "def ShowPrediction(model, sent,targets):\n",
    "    total =0\n",
    "    success = 0\n",
    "    res=[]\n",
    "    outp = model(torch.LongTensor(sent))\n",
    "    for j,w in enumerate(sent):\n",
    "        predict = outp[j].max(-1)[1]\n",
    "        res.append(predict)\n",
    "        if(predict.item() == targets[j].item()):\n",
    "            success +=1\n",
    "        total+=1\n",
    "        print(\"-Indice predit:\", predict)\n",
    "        print(\"-Tag predit:\", i2s.get(predict.item()), \" pour \", i2s.get(targets[j].item()))\n",
    "        print(\"-Probabilité de prediction:\", outp[j].max(-1)[0])\n",
    "        print(\"'Predictions Réussites: \",success,\"/\",total) \n",
    "        print()\n",
    "    return res\n",
    "\n"
   ]
  },
  {
   "cell_type": "code",
   "execution_count": 22,
   "metadata": {
    "scrolled": false
   },
   "outputs": [
    {
     "name": "stdout",
     "output_type": "stream",
     "text": [
      "-Indice predit: tensor(128)\n",
      "-Tag predit: O  pour  O\n",
      "-Probabilité de prediction: tensor(1.0000, grad_fn=<MaxBackward0>)\n",
      "'Predictions Réussites:  1 / 1\n",
      "\n",
      "-Indice predit: tensor(128)\n",
      "-Tag predit: O  pour  O\n",
      "-Probabilité de prediction: tensor(1., grad_fn=<MaxBackward0>)\n",
      "'Predictions Réussites:  2 / 2\n",
      "\n",
      "-Indice predit: tensor(26)\n",
      "-Tag predit: B-depart_date.day_name  pour  B-depart_date.day_name\n",
      "-Probabilité de prediction: tensor(1.0000, grad_fn=<MaxBackward0>)\n",
      "'Predictions Réussites:  3 / 3\n",
      "\n",
      "-Indice predit: tensor(128)\n",
      "-Tag predit: O  pour  O\n",
      "-Probabilité de prediction: tensor(1., grad_fn=<MaxBackward0>)\n",
      "'Predictions Réussites:  4 / 4\n",
      "\n",
      "-Indice predit: tensor(128)\n",
      "-Tag predit: O  pour  O\n",
      "-Probabilité de prediction: tensor(1., grad_fn=<MaxBackward0>)\n",
      "'Predictions Réussites:  5 / 5\n",
      "\n",
      "-Indice predit: tensor(48)\n",
      "-Tag predit: B-fromloc.city_name  pour  B-fromloc.city_name\n",
      "-Probabilité de prediction: tensor(1.0000, grad_fn=<MaxBackward0>)\n",
      "'Predictions Réussites:  6 / 6\n",
      "\n",
      "-Indice predit: tensor(128)\n",
      "-Tag predit: O  pour  O\n",
      "-Probabilité de prediction: tensor(1.0000, grad_fn=<MaxBackward0>)\n",
      "'Predictions Réussites:  7 / 7\n",
      "\n",
      "-Indice predit: tensor(78)\n",
      "-Tag predit: B-toloc.city_name  pour  B-toloc.city_name\n",
      "-Probabilité de prediction: tensor(1.0000, grad_fn=<MaxBackward0>)\n",
      "'Predictions Réussites:  8 / 8\n",
      "\n",
      "-Indice predit: tensor(128)\n",
      "-Tag predit: O  pour  O\n",
      "-Probabilité de prediction: tensor(1., grad_fn=<MaxBackward0>)\n",
      "'Predictions Réussites:  9 / 9\n",
      "\n"
     ]
    },
    {
     "data": {
      "text/plain": [
       "[tensor(128),\n",
       " tensor(128),\n",
       " tensor(26),\n",
       " tensor(128),\n",
       " tensor(128),\n",
       " tensor(48),\n",
       " tensor(128),\n",
       " tensor(78),\n",
       " tensor(128)]"
      ]
     },
     "execution_count": 22,
     "metadata": {},
     "output_type": "execute_result"
    }
   ],
   "source": [
    "#Changer la valeur de phrase pour tester des phrases differentes\n",
    "phrase = 465\n",
    "ShowPrediction(final,testQuery[phrase],testSlots[phrase])"
   ]
  },
  {
   "cell_type": "markdown",
   "metadata": {},
   "source": [
    "# Conclusion\n",
    "----------------------------------------"
   ]
  },
  {
   "cell_type": "markdown",
   "metadata": {},
   "source": [
    "A la fin de ce projet nous atteignons avec notre réseau neuronal final les 89.89% de réussite lors de l'étiquetage des phrases du testing set. \n",
    "\n",
    "C'est beaucoup mieux qu'une sélection aléatoire (qui donnerait un taux avoisinant les 1/129*100 = 0.77%), ce qui prouve bien la capacité de notre réseau neuronal à apprendre. \n",
    "\n",
    "C'est aussi mieux que le premier palier des 66% atteint en début d'expérimentation en répondant 'O' à la plupart des mots ( à cause de la grande probabilité d’apparition de 'O') ce qui montre bien que notre modèlel évite l'over-fitting et les pièges de généralisation de reponses.\n"
   ]
  },
  {
   "cell_type": "code",
   "execution_count": null,
   "metadata": {},
   "outputs": [],
   "source": []
  }
 ],
 "metadata": {
  "kernelspec": {
   "display_name": "Python 3",
   "language": "python",
   "name": "python3"
  },
  "language_info": {
   "codemirror_mode": {
    "name": "ipython",
    "version": 3
   },
   "file_extension": ".py",
   "mimetype": "text/x-python",
   "name": "python",
   "nbconvert_exporter": "python",
   "pygments_lexer": "ipython3",
   "version": "3.7.3"
  }
 },
 "nbformat": 4,
 "nbformat_minor": 2
}
